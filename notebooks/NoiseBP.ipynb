{
 "cells": [
  {
   "cell_type": "markdown",
   "id": "aae622dc",
   "metadata": {},
   "source": [
    "Concentración exponencial a causa del ruido"
   ]
  },
  {
   "cell_type": "code",
   "execution_count": 2,
   "id": "9cfcf457",
   "metadata": {},
   "outputs": [],
   "source": [
    "# Imports\n",
    "import pickle\n",
    "import numpy as np\n",
    "\n",
    "import sys\n",
    "sys.path.append('../')\n",
    "\n",
    "from src import customFunc as cf\n",
    "from src import ansatzs as anz"
   ]
  },
  {
   "cell_type": "code",
   "execution_count": 3,
   "id": "769eb496",
   "metadata": {},
   "outputs": [
    {
     "name": "stdout",
     "output_type": "stream",
     "text": [
      "Hamiltoniano: SparsePauliOp(['IIII', 'IIIZ', 'IIZI', 'IZII', 'ZIII', 'IIZZ', 'IZIZ', 'ZIIZ', 'YYYY', 'XXYY', 'YYXX', 'XXXX', 'IZZI', 'ZIZI', 'ZZII'],\n",
      "              coeffs=[-0.80508703+0.j,  0.17468284+0.j, -0.23335742+0.j,  0.17468284+0.j,\n",
      " -0.23335742+0.j,  0.12183444+0.j,  0.16969102+0.j,  0.16684527+0.j,\n",
      "  0.04501083+0.j,  0.04501083+0.j,  0.04501083+0.j,  0.04501083+0.j,\n",
      "  0.16684527+0.j,  0.17538577+0.j,  0.12183444+0.j])\n"
     ]
    }
   ],
   "source": [
    "from qiskit import transpile\n",
    "\n",
    "# Observable\n",
    "with open(f\"VQE/H2/data/hamiltonian{0.719}.pkl\", \"rb\") as f:\n",
    "    hamiltonian = pickle.load(f)\n",
    "\n",
    "print(\"Hamiltoniano:\", hamiltonian)\n"
   ]
  },
  {
   "cell_type": "code",
   "execution_count": null,
   "id": "f343e064",
   "metadata": {},
   "outputs": [
    {
     "name": "stdout",
     "output_type": "stream",
     "text": [
      "\n",
      "=====================================================\n",
      "Calculando varianzas con 4 qubits.\n",
      "\n",
      "Varianza del valor esperado: 0.000364646804038286\n",
      "Varianza de la derivada: 0.0001365308426425935\n",
      "\n",
      "=====================================================\n",
      "Calculando varianzas con 5 qubits.\n",
      "\n",
      "Varianza del valor esperado: 0.0003309502149388639\n",
      "Varianza de la derivada: 0.00014890495391035264\n",
      "\n",
      "=====================================================\n",
      "Calculando varianzas con 6 qubits.\n",
      "\n",
      "Varianza del valor esperado: 0.0009549781633193839\n",
      "Varianza de la derivada: 0.00012946719854357958\n",
      "\n",
      "=====================================================\n",
      "Calculando varianzas con 7 qubits.\n",
      "\n",
      "Varianza del valor esperado: 0.002976691349154804\n",
      "Varianza de la derivada: 0.00014457860286752857\n",
      "\n",
      "=====================================================\n",
      "Calculando varianzas con 8 qubits.\n",
      "\n",
      "Varianza del valor esperado: 0.00506839100397646\n",
      "Varianza de la derivada: 0.0001169027591264916\n",
      "\n",
      "=====================================================\n",
      "Calculando varianzas con 9 qubits.\n",
      "\n",
      "Varianza del valor esperado: 0.014224744599460071\n",
      "Varianza de la derivada: 0.00017844501310652352\n",
      "\n",
      "=====================================================\n",
      "Calculando varianzas con 10 qubits.\n",
      "\n"
     ]
    }
   ],
   "source": [
    "from qiskit.providers.fake_provider import FakeManila\n",
    "\n",
    "fake_backend = FakeManila()\n",
    "\n",
    "for noise_scale in np.linspace(0.5, 1.5, 5):\n",
    "\n",
    "    cf.noisy_variance_vs_nQubits(anz.build_Nlocal_ansatz, fake_backend, noise_scale, 4, 10, hamiltonian, 0, 100, True, True, True)"
   ]
  }
 ],
 "metadata": {
  "kernelspec": {
   "display_name": "qiskit-tfm",
   "language": "python",
   "name": "python3"
  },
  "language_info": {
   "codemirror_mode": {
    "name": "ipython",
    "version": 3
   },
   "file_extension": ".py",
   "mimetype": "text/x-python",
   "name": "python",
   "nbconvert_exporter": "python",
   "pygments_lexer": "ipython3",
   "version": "3.11.11"
  }
 },
 "nbformat": 4,
 "nbformat_minor": 5
}
