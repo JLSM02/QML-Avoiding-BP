{
 "cells": [
  {
   "cell_type": "markdown",
   "id": "aae622dc",
   "metadata": {},
   "source": [
    "Concentración exponencial a causa del ruido"
   ]
  },
  {
   "cell_type": "code",
   "execution_count": 9,
   "id": "9cfcf457",
   "metadata": {},
   "outputs": [],
   "source": [
    "# Imports\n",
    "import pickle\n",
    "import numpy as np\n",
    "\n",
    "import sys\n",
    "sys.path.append('../')\n",
    "\n",
    "from src import customFunc as cf\n",
    "from src import ansatzs as anz"
   ]
  },
  {
   "cell_type": "code",
   "execution_count": 10,
   "id": "769eb496",
   "metadata": {},
   "outputs": [
    {
     "name": "stdout",
     "output_type": "stream",
     "text": [
      "Hamiltoniano: SparsePauliOp(['IIII', 'IIIZ', 'IIZI', 'IZII', 'ZIII', 'IIZZ', 'IZIZ', 'ZIIZ', 'YYYY', 'XXYY', 'YYXX', 'XXXX', 'IZZI', 'ZIZI', 'ZZII'],\n",
      "              coeffs=[-0.80499838+0.j,  0.17472226+0.j, -0.23347838+0.j,  0.17472226+0.j,\n",
      " -0.23347838+0.j,  0.12184887+0.j,  0.16970294+0.j,  0.16685625+0.j,\n",
      "  0.04500738+0.j,  0.04500738+0.j,  0.04500738+0.j,  0.04500738+0.j,\n",
      "  0.16685625+0.j,  0.17539742+0.j,  0.12184887+0.j])\n"
     ]
    }
   ],
   "source": [
    "from qiskit import transpile\n",
    "\n",
    "# Observable\n",
    "with open(f\"VQE/H2/data/hamiltonian{0.719}.pkl\", \"rb\") as f:\n",
    "    hamiltonian = pickle.load(f)\n",
    "\n",
    "print(\"Hamiltoniano:\", hamiltonian)\n"
   ]
  },
  {
   "cell_type": "code",
   "execution_count": null,
   "id": "f343e064",
   "metadata": {},
   "outputs": [
    {
     "name": "stdout",
     "output_type": "stream",
     "text": [
      "\n",
      "=====================================================\n",
      "Calculando varianzas con 4 qubits.\n",
      "\n",
      "Varianza del valor esperado: 0.04377835143188391\n",
      "Varianza de la derivada: 0.013764672691640672\n",
      "\n",
      "=====================================================\n",
      "Calculando varianzas con 5 qubits.\n",
      "\n"
     ]
    }
   ],
   "source": [
    "from qiskit.providers.fake_provider import FakeManila\n",
    "\n",
    "fake_backend = FakeManila()\n",
    "\n",
    "for noise_scale in np.linspace(0, 0.15, 4):\n",
    "\n",
    "    cf.noisy_variance_vs_nQubits(anz.build_Nlocal_ansatz, fake_backend, noise_scale, 4, 8, hamiltonian, 0, 100, True, True, True)"
   ]
  }
 ],
 "metadata": {
  "kernelspec": {
   "display_name": "qiskit-tfm",
   "language": "python",
   "name": "python3"
  },
  "language_info": {
   "codemirror_mode": {
    "name": "ipython",
    "version": 3
   },
   "file_extension": ".py",
   "mimetype": "text/x-python",
   "name": "python",
   "nbconvert_exporter": "python",
   "pygments_lexer": "ipython3",
   "version": "3.11.11"
  }
 },
 "nbformat": 4,
 "nbformat_minor": 5
}
