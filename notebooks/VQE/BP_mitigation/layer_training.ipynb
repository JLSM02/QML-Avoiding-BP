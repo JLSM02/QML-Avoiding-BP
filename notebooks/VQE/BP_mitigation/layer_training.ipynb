{
 "cells": [
  {
   "cell_type": "code",
   "execution_count": 5,
   "id": "efd8f49c",
   "metadata": {},
   "outputs": [],
   "source": [
    "# Imports\n",
    "import pickle\n",
    "import sys\n",
    "sys.path.append('../../../')\n",
    "from src import ansatzs as anz\n",
    "from src import mitigation as mit"
   ]
  },
  {
   "cell_type": "code",
   "execution_count": 6,
   "id": "4f3bf455",
   "metadata": {},
   "outputs": [],
   "source": [
    "with open(\"data/hamiltonian1.000.pkl\", \"rb\") as f:\n",
    "    hamiltonian = pickle.load(f)\n",
    "with open(\"data/nuclear_repulsion1.000.pkl\", \"rb\") as f:\n",
    "    nuclear_repulsion = pickle.load(f)"
   ]
  },
  {
   "cell_type": "code",
   "execution_count": 7,
   "id": "1e84b7be",
   "metadata": {},
   "outputs": [],
   "source": [
    "# Create ansatz\n",
    "num_layers=3\n",
    "ansatz, n_params = anz.build_Nlocal_ansatz(14, num_layers)"
   ]
  },
  {
   "cell_type": "code",
   "execution_count": 8,
   "id": "39e9fd94",
   "metadata": {},
   "outputs": [],
   "source": [
    "res=mit.VQE_minimization(ansatz, hamiltonian)"
   ]
  },
  {
   "cell_type": "code",
   "execution_count": null,
   "id": "1a2408ae",
   "metadata": {},
   "outputs": [],
   "source": [
    "+ nuclear_repulsion"
   ]
  },
  {
   "cell_type": "code",
   "execution_count": 9,
   "id": "c7be30b9",
   "metadata": {},
   "outputs": [],
   "source": [
    "res=mit.VQE_minimization_layer_training(ansatz, hamiltonian, num_layers, range_layers=1)"
   ]
  },
  {
   "cell_type": "code",
   "execution_count": null,
   "id": "d7e8996a",
   "metadata": {},
   "outputs": [],
   "source": [
    "cost_history_dict[\"cost_history\"]\n",
    "# Show the evolution of the cost function\n",
    "if plot_info:\n",
    "    fig, ax = plt.subplots()\n",
    "    ax.plot(range(cost_history_dict[\"iters\"]), cost_history_dict[\"cost_history\"], label=r\"$\\langle O\\rangle$\")\n",
    "    ax.set_xlabel(\"Iteraciones\")\n",
    "    ax.set_ylabel(r\"$\\langle O\\rangle$\")\n",
    "    ax.set_title(f\"Minimización\")\n",
    "    plt.legend()\n",
    "    plt.show()\n",
    "    print(f\"End of optimization. Found optimal value: {res.fun}\")\n",
    "    print(\"=====================================================\")"
   ]
  },
  {
   "cell_type": "code",
   "execution_count": null,
   "id": "a5d2ee60",
   "metadata": {},
   "outputs": [],
   "source": [
    "# Hamiltonians\n",
    "with open(f\"data/hamiltonian0.719.pkl\", \"rb\") as f:\n",
    "    hamiltonian = pickle.load(f)\n",
    "# Repulsion energies\n",
    "with open(f\"data/nuclear_repulsion0.719.pkl\", \"rb\") as f:\n",
    "    nuclear_repulsion = pickle.load(f)"
   ]
  }
 ],
 "metadata": {
  "kernelspec": {
   "display_name": "qiskitTFM",
   "language": "python",
   "name": "python3"
  },
  "language_info": {
   "codemirror_mode": {
    "name": "ipython",
    "version": 3
   },
   "file_extension": ".py",
   "mimetype": "text/x-python",
   "name": "python",
   "nbconvert_exporter": "python",
   "pygments_lexer": "ipython3",
   "version": "3.10.16"
  }
 },
 "nbformat": 4,
 "nbformat_minor": 5
}
