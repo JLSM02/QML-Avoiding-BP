{
 "cells": [
  {
   "cell_type": "code",
   "execution_count": 15,
   "id": "0f00189f",
   "metadata": {},
   "outputs": [],
   "source": [
    "from qiskit_algorithms.minimum_eigensolvers import AdaptVQE, VQE\n",
    "from qiskit_algorithms.optimizers import SLSQP\n",
    "from qiskit.primitives import Estimator\n",
    "from qiskit.circuit.library import EvolvedOperatorAnsatz\n",
    "\n",
    "import pickle\n",
    "import sys\n",
    "sys.path.append('../../../')\n",
    "\n",
    "from qiskit.quantum_info import SparsePauliOp\n",
    "\n",
    "from qiskit import QuantumCircuit\n"
   ]
  },
  {
   "cell_type": "code",
   "execution_count": 18,
   "id": "ef08008d",
   "metadata": {},
   "outputs": [
    {
     "ename": "AttributeError",
     "evalue": "'UCCSD' object has no attribute 'excitation_pool'",
     "output_type": "error",
     "traceback": [
      "\u001b[31m---------------------------------------------------------------------------\u001b[39m",
      "\u001b[31mAttributeError\u001b[39m                            Traceback (most recent call last)",
      "\u001b[36mCell\u001b[39m\u001b[36m \u001b[39m\u001b[32mIn[18]\u001b[39m\u001b[32m, line 9\u001b[39m\n\u001b[32m      6\u001b[39m \u001b[38;5;28;01mwith\u001b[39;00m \u001b[38;5;28mopen\u001b[39m(\u001b[33m\"\u001b[39m\u001b[33mdata/H2_ansatz.pkl\u001b[39m\u001b[33m\"\u001b[39m, \u001b[33m\"\u001b[39m\u001b[33mrb\u001b[39m\u001b[33m\"\u001b[39m) \u001b[38;5;28;01mas\u001b[39;00m f:\n\u001b[32m      7\u001b[39m     uccsd = pickle.load(f)\n\u001b[32m----> \u001b[39m\u001b[32m9\u001b[39m pool = \u001b[43muccsd\u001b[49m\u001b[43m.\u001b[49m\u001b[43mexcitation_pool\u001b[49m()\n\u001b[32m     11\u001b[39m \u001b[38;5;66;03m# Crear ansatz vacío\u001b[39;00m\n\u001b[32m     12\u001b[39m ansatz = EvolvedOperatorAnsatz(pool[\u001b[32m0\u001b[39m].\u001b[34m__class__\u001b[39m(\u001b[33m\"\u001b[39m\u001b[33m\"\u001b[39m))  \u001b[38;5;66;03m# dummy operator para inicializar\u001b[39;00m\n",
      "\u001b[31mAttributeError\u001b[39m: 'UCCSD' object has no attribute 'excitation_pool'"
     ]
    }
   ],
   "source": [
    "# get your Hamiltonian\n",
    "with open(\"data/H2_hamiltonian.pkl\", \"rb\") as f:\n",
    "    hamiltonian = pickle.load(f)\n",
    "\n",
    "# construct your ansatz\n",
    "with open(\"data/H2_ansatz.pkl\", \"rb\") as f:\n",
    "    uccsd = pickle.load(f)\n",
    "\n",
    "pool = uccsd.excitation_pool()\n",
    "\n",
    "# Crear ansatz vacío\n",
    "ansatz = EvolvedOperatorAnsatz(pool[0].__class__(\"\"))  # dummy operator para inicializar\n",
    "\n",
    "# Crear AdaptVQE\n",
    "vqe = VQE(Estimator(), ansatz, SLSQP())\n",
    "adapt = AdaptVQE(vqe)\n",
    "adapt.excitation_pool = pool  # aquí le das la pool real\n",
    "\n",
    "# Ejecutar\n",
    "result = adapt.compute_minimum_eigenvalue(hamiltonian)\n",
    "print(\"Energía estimada:\", result.eigenvalue)\n"
   ]
  }
 ],
 "metadata": {
  "kernelspec": {
   "display_name": "qml_avoiding_bp",
   "language": "python",
   "name": "python3"
  },
  "language_info": {
   "codemirror_mode": {
    "name": "ipython",
    "version": 3
   },
   "file_extension": ".py",
   "mimetype": "text/x-python",
   "name": "python",
   "nbconvert_exporter": "python",
   "pygments_lexer": "ipython3",
   "version": "3.11.13"
  }
 },
 "nbformat": 4,
 "nbformat_minor": 5
}
