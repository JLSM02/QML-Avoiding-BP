{
 "cells": [
  {
   "cell_type": "code",
   "execution_count": 2,
   "id": "1539dc1f",
   "metadata": {},
   "outputs": [],
   "source": [
    "# Imports\n",
    "import pickle\n",
    "import numpy as np\n",
    "import matplotlib.pyplot as plt\n",
    "\n",
    "import sys\n",
    "sys.path.append('../../../')\n",
    "\n",
    "from src import customFunc as cf\n",
    "from src import ansatzs as anz\n",
    "from src import mitigation as mit\n",
    "from qiskit.transpiler.preset_passmanagers import generate_preset_pass_manager\n",
    "from qiskit.providers.fake_provider import FakeMelbourneV2\n",
    "import time\n",
    "from qiskit.quantum_info import Statevector"
   ]
  },
  {
   "cell_type": "code",
   "execution_count": 3,
   "id": "7dfe7b3f",
   "metadata": {},
   "outputs": [],
   "source": [
    "with open(f\"data/ansatzH2O.pkl\", \"rb\") as f:\n",
    "    ansatz_naive = pickle.load(f)\n",
    "\n",
    "backend = FakeMelbourneV2()"
   ]
  },
  {
   "cell_type": "code",
   "execution_count": 3,
   "id": "b5765391",
   "metadata": {},
   "outputs": [
    {
     "name": "stdout",
     "output_type": "stream",
     "text": [
      "Transpilation time: 120.99440550804138 (s)\n",
      "Circuit info: OrderedDict([('cx', 14262), ('rz', 6782), ('sx', 4680), ('x', 267)])\n",
      "Depth: 19258\n"
     ]
    }
   ],
   "source": [
    "# Transpile circuit with a pass manager for a backend\n",
    "pm = generate_preset_pass_manager(backend=backend, optimization_level=3)\n",
    "t0 = time.time()\n",
    "transpiled_ansatz_naive = pm.run(ansatz_naive)\n",
    "t1 = time.time()\n",
    "t_optimized=t1 - t0\n",
    "\n",
    "# Show results\n",
    "print(f\"Transpilation time: {t_optimized} (s)\")\n",
    "print(f'Circuit info: {transpiled_ansatz_naive.count_ops()}')\n",
    "print(f'Depth: {transpiled_ansatz_naive.depth()}')"
   ]
  },
  {
   "cell_type": "code",
   "execution_count": null,
   "id": "d6ac7785",
   "metadata": {},
   "outputs": [],
   "source": [
    "ansatz_opt, transpiled_ansatz_opt, num_cx_prev=anz.iterate_ansatz_opt(ansatz_naive, backend)"
   ]
  },
  {
   "cell_type": "code",
   "execution_count": 10,
   "id": "7c086819",
   "metadata": {},
   "outputs": [],
   "source": [
    "with open(\"data/ansatz_opt.pkl\", \"wb\") as f:\n",
    "    pickle.dump(ansatz_opt, f)"
   ]
  },
  {
   "cell_type": "code",
   "execution_count": 4,
   "id": "b5258063",
   "metadata": {},
   "outputs": [],
   "source": [
    "with open(\"data/ansatz_opt.pkl\", \"rb\") as f:\n",
    "    ansatz_opt = pickle.load(f)"
   ]
  },
  {
   "cell_type": "code",
   "execution_count": 5,
   "id": "e26e1b26",
   "metadata": {},
   "outputs": [
    {
     "name": "stdout",
     "output_type": "stream",
     "text": [
      "Circuit info: OrderedDict([('cx', 13456), ('rz', 6858), ('sx', 4686), ('x', 561)])\n",
      "Depth: 18986\n"
     ]
    }
   ],
   "source": [
    "print(f'Circuit info: {transpiled_ansatz_opt.count_ops()}')\n",
    "print(f'Depth: {transpiled_ansatz_opt.depth()}')"
   ]
  },
  {
   "cell_type": "markdown",
   "id": "36f176fa",
   "metadata": {},
   "source": [
    "## Comparison of ansatz"
   ]
  },
  {
   "cell_type": "code",
   "execution_count": 12,
   "id": "41307793",
   "metadata": {},
   "outputs": [
    {
     "data": {
      "text/latex": [
       "$$0.0001080658 |00111110011111\\rangle-0.0018785187 |00111110101111\\rangle-0.0005912365 |00111110110111\\rangle-0.008980773 |00111110111011\\rangle-0.0001692085 |00111110111101\\rangle-0.0968194834 |00111110111110\\rangle + \\ldots -0.0179359867 |11111001110101\\rangle+0.0003431867 |11111001110110\\rangle-0.0012418293 |11111001111001\\rangle+7.78786 \\cdot 10^{-5} |11111001111010\\rangle+0.0067654828 |11111001111100\\rangle$$"
      ],
      "text/plain": [
       "<IPython.core.display.Latex object>"
      ]
     },
     "metadata": {},
     "output_type": "display_data"
    },
    {
     "data": {
      "text/latex": [
       "$$0.0001080658 |00111110011111\\rangle-0.0018785187 |00111110101111\\rangle-0.0005912365 |00111110110111\\rangle-0.008980773 |00111110111011\\rangle-0.0001692085 |00111110111101\\rangle-0.0968194834 |00111110111110\\rangle + \\ldots -0.0179359867 |11111001110101\\rangle+0.0003431867 |11111001110110\\rangle-0.0012418293 |11111001111001\\rangle+7.78786 \\cdot 10^{-5} |11111001111010\\rangle+0.0067654828 |11111001111100\\rangle$$"
      ],
      "text/plain": [
       "<IPython.core.display.Latex object>"
      ]
     },
     "metadata": {},
     "output_type": "display_data"
    },
    {
     "name": "stdout",
     "output_type": "stream",
     "text": [
      "0.9999999999987133\n",
      "1.6057776596625765e-13\n"
     ]
    }
   ],
   "source": [
    "# Randomización de parámetros\n",
    "num_params = ansatz_naive.num_parameters\n",
    "x0 = np.random.uniform(0,2*np.pi,num_params)\n",
    "\n",
    "# Ansatz sin optimizar\n",
    "qc_1 = ansatz_naive.assign_parameters({list(ansatz_naive.parameters)[i]: x0[i] for i in range(len(x0))}) # Asignamos los parámetros al circuito\n",
    "Sv_1 = Statevector(qc_1)\n",
    "display(Sv_1.draw('latex'))\n",
    "\n",
    "# Ansatz optimizado\n",
    "qc_2 = ansatz_opt.assign_parameters({list(ansatz_opt.parameters)[i]: x0[i] for i in range(len(x0))}) # Asignamos los parámetros al circuito\n",
    "Sv_2 = Statevector(qc_2)\n",
    "display(Sv_2.draw('latex'))\n",
    "\n",
    "# Fidelidad y distancia\n",
    "print(abs(np.dot(Sv_1,Sv_2)))\n",
    "print(abs(np.linalg.norm(Sv_1-Sv_2)))"
   ]
  },
  {
   "cell_type": "code",
   "execution_count": 6,
   "id": "2270ec89",
   "metadata": {},
   "outputs": [],
   "source": [
    "with open(\"data/H2O_hamiltonian.pkl\", \"rb\") as f:\n",
    "    hamiltonian = pickle.load(f)"
   ]
  },
  {
   "cell_type": "code",
   "execution_count": null,
   "id": "edded9c4",
   "metadata": {},
   "outputs": [],
   "source": [
    "cost_history_dict_naive=mit.VQE_minimization(ansatz_naive, hamiltonian)"
   ]
  },
  {
   "cell_type": "code",
   "execution_count": null,
   "id": "650d4572",
   "metadata": {},
   "outputs": [],
   "source": [
    "cost_history_dict_opt=mit.VQE_minimization(ansatz_opt, hamiltonian)"
   ]
  }
 ],
 "metadata": {
  "kernelspec": {
   "display_name": "qiskitTFM",
   "language": "python",
   "name": "python3"
  },
  "language_info": {
   "codemirror_mode": {
    "name": "ipython",
    "version": 3
   },
   "file_extension": ".py",
   "mimetype": "text/x-python",
   "name": "python",
   "nbconvert_exporter": "python",
   "pygments_lexer": "ipython3",
   "version": "3.10.16"
  }
 },
 "nbformat": 4,
 "nbformat_minor": 5
}
