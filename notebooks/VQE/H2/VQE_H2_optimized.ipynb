{
 "cells": [
  {
   "cell_type": "code",
   "execution_count": null,
   "id": "1539dc1f",
   "metadata": {},
   "outputs": [],
   "source": [
    "# Imports\n",
    "import pickle\n",
    "import numpy as np\n",
    "import matplotlib.pyplot as plt\n",
    "\n",
    "import sys\n",
    "sys.path.append('../../../')\n",
    "\n",
    "from src import customFunc as cf\n",
    "from src import ansatzs as anz"
   ]
  },
  {
   "cell_type": "code",
   "execution_count": null,
   "id": "8a1698a0",
   "metadata": {},
   "outputs": [],
   "source": [
    "# Hamiltonians\n",
    "with open(f\"data/hamiltonian{0.719}.pkl\", \"rb\") as f:\n",
    "    hamiltonian = pickle.load(f)\n",
    "# Repulsion energies\n",
    "with open(f\"data/nuclear_repulsion{0.719}.pkl\", \"rb\") as f:\n",
    "    nuclear_repulsion = pickle.load(f)"
   ]
  },
  {
   "cell_type": "code",
   "execution_count": null,
   "id": "9eb7b0ab",
   "metadata": {},
   "outputs": [],
   "source": [
    ".optimize_qaoa(cost_operator, layers=qaoa_layers)"
   ]
  }
 ],
 "metadata": {
  "language_info": {
   "name": "python"
  }
 },
 "nbformat": 4,
 "nbformat_minor": 5
}
