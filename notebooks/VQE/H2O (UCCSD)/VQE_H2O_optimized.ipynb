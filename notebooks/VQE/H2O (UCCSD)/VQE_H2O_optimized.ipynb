{
 "cells": [
  {
   "cell_type": "code",
   "execution_count": 1,
   "id": "1539dc1f",
   "metadata": {},
   "outputs": [],
   "source": [
    "# Imports\n",
    "import pickle\n",
    "import numpy as np\n",
    "import matplotlib.pyplot as plt\n",
    "\n",
    "import sys\n",
    "sys.path.append('../../../')\n",
    "\n",
    "from src import customFunc as cf\n",
    "from src import ansatzs as anz\n",
    "from qiskit.transpiler.preset_passmanagers import generate_preset_pass_manager\n",
    "from qiskit.providers.fake_provider import FakeMelbourneV2\n",
    "import time\n",
    "from qiskit.quantum_info import Statevector"
   ]
  },
  {
   "cell_type": "code",
   "execution_count": 2,
   "id": "a6b4b42f",
   "metadata": {},
   "outputs": [],
   "source": [
    "with open(f\"data/ansatz1.000.pkl\", \"rb\") as f:\n",
    "    ansatz_naive = pickle.load(f)\n",
    "\n",
    "backend = FakeMelbourneV2()"
   ]
  },
  {
   "cell_type": "code",
   "execution_count": 3,
   "id": "b5765391",
   "metadata": {},
   "outputs": [
    {
     "name": "stdout",
     "output_type": "stream",
     "text": [
      "Transpilation time: 97.93181848526001 (s)\n",
      "Circuit info: OrderedDict([('cx', 14222), ('rz', 6446), ('sx', 4435), ('x', 272)])\n",
      "Depth: 19377\n"
     ]
    }
   ],
   "source": [
    "# Transpile circuit with a pass manager for a backend\n",
    "pm = generate_preset_pass_manager(backend=backend, optimization_level=3)\n",
    "t0 = time.time()\n",
    "transpiled_ansatz_naive = pm.run(ansatz_naive)\n",
    "t1 = time.time()\n",
    "t_optimized=t1 - t0\n",
    "\n",
    "# Show results\n",
    "print(f\"Transpilation time: {t_optimized} (s)\")\n",
    "print(f'Circuit info: {transpiled_ansatz_naive.count_ops()}')\n",
    "print(f'Depth: {transpiled_ansatz_naive.depth()}')"
   ]
  },
  {
   "cell_type": "code",
   "execution_count": null,
   "id": "209385c3",
   "metadata": {},
   "outputs": [
    {
     "name": "stdout",
     "output_type": "stream",
     "text": [
      "Circuit info: OrderedDict([('cx', 13379), ('rz', 6887), ('sx', 4533), ('x', 667)])\n",
      "Depth: 18705\n"
     ]
    }
   ],
   "source": [
    "transpiled_ansatz_opt, num_cx, ansatz_opt =anz.iterate_ansatz_opt(ansatz_naive, backend)\n",
    "# Show results\n",
    "print(f'Circuit info: {transpiled_ansatz_opt.count_ops()}')\n",
    "print(f'Depth: {transpiled_ansatz_opt.depth()}')"
   ]
  },
  {
   "cell_type": "code",
   "execution_count": null,
   "id": "b2bb8884",
   "metadata": {},
   "outputs": [
    {
     "name": "stdout",
     "output_type": "stream",
     "text": [
      "Transpilation time: 46.21081757545471 (s)\n",
      "Circuit info: OrderedDict([('cx', 13336), ('rz', 6624), ('sx', 4475), ('x', 547)])\n",
      "Depth: 18609\n"
     ]
    }
   ],
   "source": [
    "# Transpile circuit with a pass manager for a backend\n",
    "pm = generate_preset_pass_manager(backend=backend, optimization_level=3)\n",
    "t0 = time.time()\n",
    "transpiled_ansatz_opt_2 = pm.run(ansatz_opt)\n",
    "t1 = time.time()\n",
    "t_optimized=t1 - t0\n",
    "\n",
    "# Show results\n",
    "print(f\"Transpilation time: {t_optimized} (s)\")\n",
    "print(f'Circuit info: {transpiled_ansatz_opt_2.count_ops()}')\n",
    "print(f'Depth: {transpiled_ansatz_opt_2.depth()}')"
   ]
  },
  {
   "cell_type": "markdown",
   "id": "36f176fa",
   "metadata": {},
   "source": [
    "## Comparison of ansatz"
   ]
  },
  {
   "cell_type": "code",
   "execution_count": 11,
   "id": "41307793",
   "metadata": {},
   "outputs": [
    {
     "data": {
      "text/latex": [
       "$$0.0002458414 |00111110011111\\rangle+0.0001143322 |00111110101111\\rangle-2.2066 \\cdot 10^{-6} |00111110110111\\rangle-0.0002048188 |00111110111011\\rangle+0.0111205663 |00111110111101\\rangle-0.0163611433 |00111110111110\\rangle + \\ldots -0.0124705811 |11111001110101\\rangle+0.0027011788 |11111001110110\\rangle+0.0011679868 |11111001111001\\rangle+0.0002749079 |11111001111010\\rangle+0.0007383499 |11111001111100\\rangle$$"
      ],
      "text/plain": [
       "<IPython.core.display.Latex object>"
      ]
     },
     "metadata": {},
     "output_type": "display_data"
    },
    {
     "data": {
      "text/latex": [
       "$$0.0002458414 |00111110011111\\rangle+0.0001143322 |00111110101111\\rangle-2.2066 \\cdot 10^{-6} |00111110110111\\rangle-0.0002048188 |00111110111011\\rangle+0.0111205663 |00111110111101\\rangle-0.0163611433 |00111110111110\\rangle + \\ldots -0.0124705811 |11111001110101\\rangle+0.0027011788 |11111001110110\\rangle+0.0011679868 |11111001111001\\rangle+0.0002749079 |11111001111010\\rangle+0.0007383499 |11111001111100\\rangle$$"
      ],
      "text/plain": [
       "<IPython.core.display.Latex object>"
      ]
     },
     "metadata": {},
     "output_type": "display_data"
    },
    {
     "name": "stdout",
     "output_type": "stream",
     "text": [
      "0.9999999999987245\n",
      "1.5385793906142057e-13\n"
     ]
    }
   ],
   "source": [
    "# Randomización de parámetros\n",
    "num_params = ansatz_naive.num_parameters\n",
    "x0 = np.random.uniform(0,2*np.pi,num_params)\n",
    "\n",
    "# Ansatz sin optimizar\n",
    "qc_1 = ansatz_naive.assign_parameters({list(ansatz_naive.parameters)[i]: x0[i] for i in range(len(x0))}) # Asignamos los parámetros al circuito\n",
    "Sv_1 = Statevector(qc_1)\n",
    "display(Sv_1.draw('latex'))\n",
    "\n",
    "# Ansatz optimizado\n",
    "qc_2 = ansatz_opt.assign_parameters({list(ansatz_opt.parameters)[i]: x0[i] for i in range(len(x0))}) # Asignamos los parámetros al circuito\n",
    "Sv_2 = Statevector(qc_2)\n",
    "display(Sv_2.draw('latex'))\n",
    "\n",
    "# Fidelidad y distancia\n",
    "print(abs(np.dot(Sv_1,Sv_2)))\n",
    "print(abs(np.linalg.norm(Sv_1-Sv_2)))"
   ]
  }
 ],
 "metadata": {
  "kernelspec": {
   "display_name": "qiskitTFM",
   "language": "python",
   "name": "python3"
  },
  "language_info": {
   "codemirror_mode": {
    "name": "ipython",
    "version": 3
   },
   "file_extension": ".py",
   "mimetype": "text/x-python",
   "name": "python",
   "nbconvert_exporter": "python",
   "pygments_lexer": "ipython3",
   "version": "3.10.16"
  }
 },
 "nbformat": 4,
 "nbformat_minor": 5
}
