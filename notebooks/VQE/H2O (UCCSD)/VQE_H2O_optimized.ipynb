{
 "cells": [
  {
   "cell_type": "code",
   "execution_count": 1,
   "id": "1539dc1f",
   "metadata": {},
   "outputs": [],
   "source": [
    "# Imports\n",
    "import pickle\n",
    "import numpy as np\n",
    "import matplotlib.pyplot as plt\n",
    "\n",
    "import sys\n",
    "sys.path.append('../../../')\n",
    "\n",
    "from src import customFunc as cf\n",
    "from src import ansatzs as anz\n",
    "from qiskit.transpiler.preset_passmanagers import generate_preset_pass_manager\n",
    "from qiskit.providers.fake_provider import FakeMelbourneV2\n",
    "import time\n",
    "from qiskit.quantum_info import Statevector"
   ]
  },
  {
   "cell_type": "code",
   "execution_count": 2,
   "id": "7dfe7b3f",
   "metadata": {},
   "outputs": [],
   "source": [
    "with open(f\"data/ansatz1.000.pkl\", \"rb\") as f:\n",
    "    ansatz_naive = pickle.load(f)\n",
    "\n",
    "backend = FakeMelbourneV2()"
   ]
  },
  {
   "cell_type": "code",
   "execution_count": 3,
   "id": "b5765391",
   "metadata": {},
   "outputs": [
    {
     "name": "stdout",
     "output_type": "stream",
     "text": [
      "Transpilation time: 52.99952268600464 (s)\n",
      "Circuit info: OrderedDict([('cx', 14131), ('rz', 6397), ('sx', 4345), ('x', 229)])\n",
      "Depth: 18988\n"
     ]
    }
   ],
   "source": [
    "# Transpile circuit with a pass manager for a backend\n",
    "pm = generate_preset_pass_manager(backend=backend, optimization_level=3)\n",
    "t0 = time.time()\n",
    "transpiled_ansatz_naive = pm.run(ansatz_naive)\n",
    "t1 = time.time()\n",
    "t_optimized=t1 - t0\n",
    "\n",
    "# Show results\n",
    "print(f\"Transpilation time: {t_optimized} (s)\")\n",
    "print(f'Circuit info: {transpiled_ansatz_naive.count_ops()}')\n",
    "print(f'Depth: {transpiled_ansatz_naive.depth()}')"
   ]
  },
  {
   "cell_type": "code",
   "execution_count": 4,
   "id": "d6ac7785",
   "metadata": {},
   "outputs": [],
   "source": [
    "ansatz_opt_prev, transpiled_ansatz_opt, num_cx_prev=anz.iterate_ansatz_opt(ansatz_naive, backend)"
   ]
  },
  {
   "cell_type": "code",
   "execution_count": null,
   "id": "e26e1b26",
   "metadata": {},
   "outputs": [
    {
     "name": "stdout",
     "output_type": "stream",
     "text": [
      "13348\n",
      "Circuit info: OrderedDict([('cx', 13348), ('rz', 7077), ('sx', 4862), ('x', 604)])\n",
      "Depth: 19082\n"
     ]
    }
   ],
   "source": [
    "print(f'Circuit info: {transpiled_ansatz_opt.count_ops()}')\n",
    "print(f'Depth: {transpiled_ansatz_opt.depth()}')"
   ]
  },
  {
   "cell_type": "markdown",
   "id": "36f176fa",
   "metadata": {},
   "source": [
    "## Comparison of ansatz"
   ]
  },
  {
   "cell_type": "code",
   "execution_count": 8,
   "id": "41307793",
   "metadata": {},
   "outputs": [
    {
     "data": {
      "text/latex": [
       "$$-0.0001085741 |00111110011111\\rangle-0.0001346172 |00111110101111\\rangle+8.34971 \\cdot 10^{-5} |00111110110111\\rangle+0.0005606294 |00111110111011\\rangle+0.0275170017 |00111110111101\\rangle+0.0112050259 |00111110111110\\rangle + \\ldots +0.0953727967 |11111001110101\\rangle+0.1123999083 |11111001110110\\rangle-0.0066649313 |11111001111001\\rangle+0.0061462678 |11111001111010\\rangle-0.0005313748 |11111001111100\\rangle$$"
      ],
      "text/plain": [
       "<IPython.core.display.Latex object>"
      ]
     },
     "metadata": {},
     "output_type": "display_data"
    },
    {
     "data": {
      "text/latex": [
       "$$-0.0001085741 |00111110011111\\rangle-0.0001346172 |00111110101111\\rangle+8.34971 \\cdot 10^{-5} |00111110110111\\rangle+0.0005606294 |00111110111011\\rangle+0.0275170017 |00111110111101\\rangle+0.0112050259 |00111110111110\\rangle + \\ldots +0.0953727967 |11111001110101\\rangle+0.1123999083 |11111001110110\\rangle-0.0066649313 |11111001111001\\rangle+0.0061462678 |11111001111010\\rangle-0.0005313748 |11111001111100\\rangle$$"
      ],
      "text/plain": [
       "<IPython.core.display.Latex object>"
      ]
     },
     "metadata": {},
     "output_type": "display_data"
    },
    {
     "name": "stdout",
     "output_type": "stream",
     "text": [
      "0.9999999999987357\n",
      "1.5582694673877673e-13\n"
     ]
    }
   ],
   "source": [
    "# Randomización de parámetros\n",
    "num_params = ansatz_naive.num_parameters\n",
    "x0 = np.random.uniform(0,2*np.pi,num_params)\n",
    "\n",
    "# Ansatz sin optimizar\n",
    "qc_1 = ansatz_naive.assign_parameters({list(ansatz_naive.parameters)[i]: x0[i] for i in range(len(x0))}) # Asignamos los parámetros al circuito\n",
    "Sv_1 = Statevector(qc_1)\n",
    "display(Sv_1.draw('latex'))\n",
    "\n",
    "# Ansatz optimizado\n",
    "qc_2 = ansatz_opt.assign_parameters({list(ansatz_opt.parameters)[i]: x0[i] for i in range(len(x0))}) # Asignamos los parámetros al circuito\n",
    "Sv_2 = Statevector(qc_2)\n",
    "display(Sv_2.draw('latex'))\n",
    "\n",
    "# Fidelidad y distancia\n",
    "print(abs(np.dot(Sv_1,Sv_2)))\n",
    "print(abs(np.linalg.norm(Sv_1-Sv_2)))"
   ]
  }
 ],
 "metadata": {
  "kernelspec": {
   "display_name": "qiskitTFM",
   "language": "python",
   "name": "python3"
  },
  "language_info": {
   "codemirror_mode": {
    "name": "ipython",
    "version": 3
   },
   "file_extension": ".py",
   "mimetype": "text/x-python",
   "name": "python",
   "nbconvert_exporter": "python",
   "pygments_lexer": "ipython3",
   "version": "3.10.16"
  }
 },
 "nbformat": 4,
 "nbformat_minor": 5
}
