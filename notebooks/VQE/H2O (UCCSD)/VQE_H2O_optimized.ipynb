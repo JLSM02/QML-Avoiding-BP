{
 "cells": [
  {
   "cell_type": "code",
   "execution_count": 1,
   "id": "1539dc1f",
   "metadata": {},
   "outputs": [],
   "source": [
    "# Imports\n",
    "import pickle\n",
    "import numpy as np\n",
    "import matplotlib.pyplot as plt\n",
    "\n",
    "import sys\n",
    "sys.path.append('../../../')\n",
    "\n",
    "from src import customFunc as cf\n",
    "from src import ansatzs as anz\n",
    "from qiskit.transpiler.preset_passmanagers import generate_preset_pass_manager\n",
    "from qiskit.providers.fake_provider import FakeMelbourneV2\n",
    "import time\n",
    "from qiskit.quantum_info import Statevector"
   ]
  },
  {
   "cell_type": "code",
   "execution_count": 2,
   "id": "7dfe7b3f",
   "metadata": {},
   "outputs": [],
   "source": [
    "with open(f\"data/ansatz1.000.pkl\", \"rb\") as f:\n",
    "    ansatz_naive = pickle.load(f)\n",
    "\n",
    "backend = FakeMelbourneV2()"
   ]
  },
  {
   "cell_type": "code",
   "execution_count": 3,
   "id": "b5765391",
   "metadata": {},
   "outputs": [
    {
     "name": "stdout",
     "output_type": "stream",
     "text": [
      "Transpilation time: 46.6624321937561 (s)\n",
      "Circuit info: OrderedDict([('cx', 14371), ('rz', 6236), ('sx', 4371), ('x', 181)])\n",
      "Depth: 18718\n"
     ]
    }
   ],
   "source": [
    "# Transpile circuit with a pass manager for a backend\n",
    "pm = generate_preset_pass_manager(backend=backend, optimization_level=3)\n",
    "t0 = time.time()\n",
    "transpiled_ansatz_naive = pm.run(ansatz_naive)\n",
    "t1 = time.time()\n",
    "t_optimized=t1 - t0\n",
    "\n",
    "# Show results\n",
    "print(f\"Transpilation time: {t_optimized} (s)\")\n",
    "print(f'Circuit info: {transpiled_ansatz_naive.count_ops()}')\n",
    "print(f'Depth: {transpiled_ansatz_naive.depth()}')"
   ]
  },
  {
   "cell_type": "code",
   "execution_count": 4,
   "id": "ed548b72",
   "metadata": {},
   "outputs": [
    {
     "name": "stdout",
     "output_type": "stream",
     "text": [
      "Transpilation time: 43.60574007034302 (s)\n",
      "Circuit info: OrderedDict([('cx', 13711), ('rz', 6688), ('sx', 4476), ('x', 657)])\n",
      "Depth: 18804\n"
     ]
    }
   ],
   "source": [
    "ansatz_opt=anz.optimize_ansatz(ansatz_naive)\n",
    "ansatz_opt=anz.optimize_ansatz(ansatz_opt)\n",
    "ansatz_opt=anz.optimize_ansatz(ansatz_opt)\n",
    "ansatz_opt=anz.optimize_ansatz(ansatz_opt)\n",
    "ansatz_opt=anz.optimize_ansatz(ansatz_opt)\n",
    "\n",
    "\n",
    "\n",
    "\n",
    "# Transpile circuit with a pass manager for a backend\n",
    "pm = generate_preset_pass_manager(backend=backend, optimization_level=3)\n",
    "t0 = time.time()\n",
    "transpiled_ansatz_opt = pm.run(ansatz_opt)\n",
    "t1 = time.time()\n",
    "t_optimized=t1 - t0\n",
    "\n",
    "# Show results\n",
    "print(f\"Transpilation time: {t_optimized} (s)\")\n",
    "print(f'Circuit info: {transpiled_ansatz_opt.count_ops()}')\n",
    "print(f'Depth: {transpiled_ansatz_opt.depth()}')"
   ]
  },
  {
   "cell_type": "code",
   "execution_count": null,
   "id": "d6ac7785",
   "metadata": {},
   "outputs": [],
   "source": [
    "ansatz_opt_prev, transpiled_ansatz_opt, num_cx_prev=anz.iterate_ansatz_opt(ansatz_naive, backend)"
   ]
  },
  {
   "cell_type": "code",
   "execution_count": null,
   "id": "e26e1b26",
   "metadata": {},
   "outputs": [
    {
     "name": "stdout",
     "output_type": "stream",
     "text": [
      "13513\n",
      "Circuit info: OrderedDict([('cx', 13711), ('rz', 6688), ('sx', 4476), ('x', 657)])\n",
      "Depth: 18804\n"
     ]
    }
   ],
   "source": [
    "print(num_cx_prev)\n",
    "print(f'Circuit info: {transpiled_ansatz_opt.count_ops()}')\n",
    "print(f'Depth: {transpiled_ansatz_opt.depth()}')"
   ]
  },
  {
   "cell_type": "code",
   "execution_count": 7,
   "id": "0e339262",
   "metadata": {},
   "outputs": [
    {
     "name": "stdout",
     "output_type": "stream",
     "text": [
      "Transpilation time: 98.30905199050903 (s)\n",
      "Circuit info: OrderedDict([('cx', 13824), ('rz', 6207), ('sx', 4221), ('x', 550)])\n",
      "Depth: 18711\n"
     ]
    }
   ],
   "source": [
    "# Transpile circuit with a pass manager for a backend\n",
    "pm = generate_preset_pass_manager(backend=backend, optimization_level=3)\n",
    "t0 = time.time()\n",
    "transpiled_ansatz_opt_2 = pm.run(ansatz_opt_prev)\n",
    "t1 = time.time()\n",
    "t_optimized=t1 - t0\n",
    "\n",
    "# Show results\n",
    "print(f\"Transpilation time: {t_optimized} (s)\")\n",
    "print(f'Circuit info: {transpiled_ansatz_opt_2.count_ops()}')\n",
    "print(f'Depth: {transpiled_ansatz_opt_2.depth()}')"
   ]
  },
  {
   "cell_type": "markdown",
   "id": "36f176fa",
   "metadata": {},
   "source": [
    "## Comparison of ansatz"
   ]
  },
  {
   "cell_type": "code",
   "execution_count": 8,
   "id": "41307793",
   "metadata": {},
   "outputs": [
    {
     "data": {
      "text/latex": [
       "$$-0.0001085741 |00111110011111\\rangle-0.0001346172 |00111110101111\\rangle+8.34971 \\cdot 10^{-5} |00111110110111\\rangle+0.0005606294 |00111110111011\\rangle+0.0275170017 |00111110111101\\rangle+0.0112050259 |00111110111110\\rangle + \\ldots +0.0953727967 |11111001110101\\rangle+0.1123999083 |11111001110110\\rangle-0.0066649313 |11111001111001\\rangle+0.0061462678 |11111001111010\\rangle-0.0005313748 |11111001111100\\rangle$$"
      ],
      "text/plain": [
       "<IPython.core.display.Latex object>"
      ]
     },
     "metadata": {},
     "output_type": "display_data"
    },
    {
     "data": {
      "text/latex": [
       "$$-0.0001085741 |00111110011111\\rangle-0.0001346172 |00111110101111\\rangle+8.34971 \\cdot 10^{-5} |00111110110111\\rangle+0.0005606294 |00111110111011\\rangle+0.0275170017 |00111110111101\\rangle+0.0112050259 |00111110111110\\rangle + \\ldots +0.0953727967 |11111001110101\\rangle+0.1123999083 |11111001110110\\rangle-0.0066649313 |11111001111001\\rangle+0.0061462678 |11111001111010\\rangle-0.0005313748 |11111001111100\\rangle$$"
      ],
      "text/plain": [
       "<IPython.core.display.Latex object>"
      ]
     },
     "metadata": {},
     "output_type": "display_data"
    },
    {
     "name": "stdout",
     "output_type": "stream",
     "text": [
      "0.9999999999987357\n",
      "1.5582694673877673e-13\n"
     ]
    }
   ],
   "source": [
    "# Randomización de parámetros\n",
    "num_params = ansatz_naive.num_parameters\n",
    "x0 = np.random.uniform(0,2*np.pi,num_params)\n",
    "\n",
    "# Ansatz sin optimizar\n",
    "qc_1 = ansatz_naive.assign_parameters({list(ansatz_naive.parameters)[i]: x0[i] for i in range(len(x0))}) # Asignamos los parámetros al circuito\n",
    "Sv_1 = Statevector(qc_1)\n",
    "display(Sv_1.draw('latex'))\n",
    "\n",
    "# Ansatz optimizado\n",
    "qc_2 = ansatz_opt.assign_parameters({list(ansatz_opt.parameters)[i]: x0[i] for i in range(len(x0))}) # Asignamos los parámetros al circuito\n",
    "Sv_2 = Statevector(qc_2)\n",
    "display(Sv_2.draw('latex'))\n",
    "\n",
    "# Fidelidad y distancia\n",
    "print(abs(np.dot(Sv_1,Sv_2)))\n",
    "print(abs(np.linalg.norm(Sv_1-Sv_2)))"
   ]
  }
 ],
 "metadata": {
  "kernelspec": {
   "display_name": "qiskitTFM",
   "language": "python",
   "name": "python3"
  },
  "language_info": {
   "codemirror_mode": {
    "name": "ipython",
    "version": 3
   },
   "file_extension": ".py",
   "mimetype": "text/x-python",
   "name": "python",
   "nbconvert_exporter": "python",
   "pygments_lexer": "ipython3",
   "version": "3.10.16"
  }
 },
 "nbformat": 4,
 "nbformat_minor": 5
}
