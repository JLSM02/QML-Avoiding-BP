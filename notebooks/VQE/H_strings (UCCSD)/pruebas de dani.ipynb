{
 "cells": [
  {
   "cell_type": "code",
   "execution_count": 1,
   "id": "1539dc1f",
   "metadata": {},
   "outputs": [],
   "source": [
    "# Imports\n",
    "import pickle\n",
    "import numpy as np\n",
    "import matplotlib.pyplot as plt\n",
    "import os\n",
    "\n",
    "import sys\n",
    "sys.path.append('../../../')\n",
    "\n",
    "from src import customFunc as cf\n",
    "from src import ansatzs as anz\n",
    "from qiskit.transpiler.preset_passmanagers import generate_preset_pass_manager\n",
    "from qiskit.providers.fake_provider import FakeManila\n",
    "import time\n",
    "\n",
    "from qiskit.transpiler.preset_passmanagers import generate_preset_pass_manager\n",
    "from qiskit.providers.fake_provider import FakeGuadalupeV2\n",
    "from qiskit.providers.aer import AerSimulator"
   ]
  },
  {
   "cell_type": "markdown",
   "id": "9f2213f4",
   "metadata": {},
   "source": [
    "## H8"
   ]
  },
  {
   "cell_type": "code",
   "execution_count": 16,
   "id": "6419cbde",
   "metadata": {},
   "outputs": [],
   "source": [
    "# Cargamos los archivos\n",
    "\n",
    "hamiltonians = {}\n",
    "nuclear_repulsions = {}\n",
    "ansatzes = {}\n",
    "\n",
    "dist = 0.700\n",
    "\n",
    "for n_atoms in [2, 4, 6, 8]:\n",
    "    molecule_id = f\"H{n_atoms}\"\n",
    "\n",
    "    with open(f\"data/hamiltonian_{molecule_id}_{dist:.3f}.pkl\", \"rb\") as f:\n",
    "        hamiltonians[molecule_id] = pickle.load(f)\n",
    "\n",
    "    with open(f\"data/nuclear_repulsion_{molecule_id}_{dist:.3f}.pkl\", \"rb\") as f:\n",
    "        nuclear_repulsions[molecule_id] = pickle.load(f)\n",
    "\n",
    "    with open(f\"data/ansatz_{molecule_id}_{dist:.3f}.pkl\", \"rb\") as f:\n",
    "        ansatzes[molecule_id] = pickle.load(f)"
   ]
  },
  {
   "cell_type": "code",
   "execution_count": null,
   "id": "8b222bcf",
   "metadata": {},
   "outputs": [
    {
     "name": "stdout",
     "output_type": "stream",
     "text": [
      "Transpilation time: 218.13428950309753 (s)\n",
      "Circuit info: OrderedDict([('cx', 43715), ('rz', 28329), ('sx', 18722), ('x', 1825)])\n",
      "Depth: 66048\n"
     ]
    }
   ],
   "source": [
    "ansatz_naive = ansatzes['H8']\n",
    "hamiltonan = hamiltonians['H8']\n",
    "\n",
    "backend = FakePrague()\n",
    "\n",
    "# Transpile circuit with a pass manager for a backend\n",
    "pm = generate_preset_pass_manager(backend=backend, optimization_level=3)\n",
    "t0 = time.time()\n",
    "transpiled_ansatz_naive = pm.run(ansatz_naive)\n",
    "t1 = time.time()\n",
    "t_optimized=t1 - t0\n",
    "\n",
    "# Show results\n",
    "print(f\"Transpilation time: {t_optimized} (s)\")\n",
    "print(f'Circuit info: {transpiled_ansatz_naive.count_ops()}')\n",
    "print(f'Depth: {transpiled_ansatz_naive.depth()}')\n",
    "\n",
    "# ansatz_naive.decompose().draw('mpl')"
   ]
  },
  {
   "cell_type": "code",
   "execution_count": 19,
   "id": "bc5756f8",
   "metadata": {},
   "outputs": [
    {
     "name": "stdout",
     "output_type": "stream",
     "text": [
      "Transpilation time: 134.2523169517517 (s)\n",
      "Circuit info: OrderedDict([('cx', 44700), ('rz', 25178), ('sx', 16235), ('x', 1077)])\n",
      "Depth: 63967\n"
     ]
    }
   ],
   "source": [
    "ansatz_opt=anz.optimize_ansatz(ansatz_naive)\n",
    "\n",
    "# Transpile circuit with a pass manager for a backend\n",
    "pm = generate_preset_pass_manager(backend=backend, optimization_level=3)\n",
    "t0 = time.time()\n",
    "transpiled_ansatz_opt = pm.run(ansatz_opt)\n",
    "t1 = time.time()\n",
    "t_optimized=t1 - t0\n",
    "\n",
    "# Show results\n",
    "print(f\"Transpilation time: {t_optimized} (s)\")\n",
    "print(f'Circuit info: {transpiled_ansatz_opt.count_ops()}')\n",
    "print(f'Depth: {transpiled_ansatz_opt.depth()}')"
   ]
  },
  {
   "cell_type": "markdown",
   "id": "8e8d9da0",
   "metadata": {},
   "source": [
    "## O3"
   ]
  },
  {
   "cell_type": "code",
   "execution_count": 2,
   "id": "6acb79cd",
   "metadata": {},
   "outputs": [],
   "source": [
    "with open(f\"data/ansatz_O3.pkl\", \"rb\") as f:\n",
    "    ansatz_naive = pickle.load(f)\n",
    "\n",
    "backend = AerSimulator()"
   ]
  },
  {
   "cell_type": "code",
   "execution_count": 3,
   "id": "9b2bec2f",
   "metadata": {},
   "outputs": [
    {
     "name": "stdout",
     "output_type": "stream",
     "text": [
      "Transpilation time: 2968.7533679008484 (s)\n",
      "Circuit info: OrderedDict([('cx', 335184), ('u2', 35795), ('rz', 13680), ('u3', 22)])\n",
      "Depth: 360453\n"
     ]
    }
   ],
   "source": [
    "# Transpile circuit with a pass manager for a backend\n",
    "pm = generate_preset_pass_manager(backend=backend, optimization_level=3)\n",
    "t0 = time.time()\n",
    "transpiled_ansatz_naive = pm.run(ansatz_naive)\n",
    "t1 = time.time()\n",
    "t_optimized=t1 - t0\n",
    "\n",
    "# Show results\n",
    "print(f\"Transpilation time: {t_optimized} (s)\")\n",
    "print(f'Circuit info: {transpiled_ansatz_naive.count_ops()}')\n",
    "print(f'Depth: {transpiled_ansatz_naive.depth()}')"
   ]
  },
  {
   "cell_type": "code",
   "execution_count": null,
   "id": "91d1fc63",
   "metadata": {},
   "outputs": [
    {
     "name": "stdout",
     "output_type": "stream",
     "text": [
      "Transpilation time: 626.4570465087891 (s)\n",
      "Circuit info: OrderedDict([('cx', 314780), ('u2', 20741), ('rz', 13680), ('unitary', 12026), ('u3', 22)])\n",
      "Depth: 340121\n"
     ]
    }
   ],
   "source": [
    "ansatz_opt=optimize_ansatz(ansatz_naive)\n",
    "\n",
    "# Transpile circuit with a pass manager for a backend\n",
    "pm = generate_preset_pass_manager(backend=backend, optimization_level=3)\n",
    "t0 = time.time()\n",
    "transpiled_ansatz_opt = pm.run(ansatz_opt)\n",
    "t1 = time.time()\n",
    "t_optimized=t1 - t0\n",
    "\n",
    "# Show results\n",
    "print(f\"Transpilation time: {t_optimized} (s)\")\n",
    "print(f'Circuit info: {transpiled_ansatz_opt.count_ops()}')\n",
    "print(f'Depth: {transpiled_ansatz_opt.depth()}')"
   ]
  },
  {
   "cell_type": "code",
   "execution_count": 6,
   "id": "ad3caa4c",
   "metadata": {},
   "outputs": [
    {
     "ename": "TypeError",
     "evalue": "UnitaryGate.__init__() missing 1 required positional argument: 'data'",
     "output_type": "error",
     "traceback": [
      "\u001b[1;31m---------------------------------------------------------------------------\u001b[0m",
      "\u001b[1;31mTypeError\u001b[0m                                 Traceback (most recent call last)",
      "Cell \u001b[1;32mIn[6], line 1\u001b[0m\n\u001b[1;32m----> 1\u001b[0m ansatz_opt, transpiled_ansatz_opt, num_cx_prev\u001b[38;5;241m=\u001b[39m\u001b[43miterate_ansatz_opt\u001b[49m\u001b[43m(\u001b[49m\u001b[43mansatz_naive\u001b[49m\u001b[43m,\u001b[49m\u001b[43m \u001b[49m\u001b[43mbackend\u001b[49m\u001b[43m)\u001b[49m\n",
      "Cell \u001b[1;32mIn[5], line 23\u001b[0m, in \u001b[0;36miterate_ansatz_opt\u001b[1;34m(ansatz_naive, backend)\u001b[0m\n\u001b[0;32m     21\u001b[0m \u001b[38;5;28;01mdef\u001b[39;00m\u001b[38;5;250m \u001b[39m\u001b[38;5;21miterate_ansatz_opt\u001b[39m(ansatz_naive, backend):\n\u001b[0;32m     22\u001b[0m     \u001b[38;5;66;03m# Inicialization\u001b[39;00m\n\u001b[1;32m---> 23\u001b[0m     ansatz_opt \u001b[38;5;241m=\u001b[39m \u001b[43moptimize_ansatz\u001b[49m\u001b[43m(\u001b[49m\u001b[43mansatz_naive\u001b[49m\u001b[43m)\u001b[49m\n\u001b[0;32m     24\u001b[0m     transpiled_ansatz_opt, num_cx_prev \u001b[38;5;241m=\u001b[39m get_cx_count(ansatz_opt, backend)\n\u001b[0;32m     26\u001b[0m     \u001b[38;5;66;03m# Optimization loop\u001b[39;00m\n",
      "Cell \u001b[1;32mIn[5], line 12\u001b[0m, in \u001b[0;36moptimize_ansatz\u001b[1;34m(ansatz_naive)\u001b[0m\n\u001b[0;32m     10\u001b[0m edge_coloring \u001b[38;5;241m=\u001b[39m {(idx, idx \u001b[38;5;241m+\u001b[39m \u001b[38;5;241m1\u001b[39m): (idx \u001b[38;5;241m+\u001b[39m \u001b[38;5;241m1\u001b[39m) \u001b[38;5;241m%\u001b[39m \u001b[38;5;241m2\u001b[39m \u001b[38;5;28;01mfor\u001b[39;00m idx \u001b[38;5;129;01min\u001b[39;00m \u001b[38;5;28mrange\u001b[39m(num_qubits)}\n\u001b[0;32m     11\u001b[0m \u001b[38;5;66;03m# Define pass manager\u001b[39;00m\n\u001b[1;32m---> 12\u001b[0m init_cost_layer \u001b[38;5;241m=\u001b[39m PassManager([FindCommutingPauliEvolutions(), Commuting2qGateRouter(swap_strategy, edge_coloring,), HighLevelSynthesis(basis_gates\u001b[38;5;241m=\u001b[39m[\u001b[38;5;124m\"\u001b[39m\u001b[38;5;124mx\u001b[39m\u001b[38;5;124m\"\u001b[39m, \u001b[38;5;124m\"\u001b[39m\u001b[38;5;124mu\u001b[39m\u001b[38;5;124m\"\u001b[39m, \u001b[38;5;124m\"\u001b[39m\u001b[38;5;124mh\u001b[39m\u001b[38;5;124m\"\u001b[39m, \u001b[38;5;124m\"\u001b[39m\u001b[38;5;124mcx\u001b[39m\u001b[38;5;124m\"\u001b[39m, \u001b[38;5;124m\"\u001b[39m\u001b[38;5;124msx\u001b[39m\u001b[38;5;124m\"\u001b[39m, \u001b[38;5;124m\"\u001b[39m\u001b[38;5;124mrz\u001b[39m\u001b[38;5;124m\"\u001b[39m, \u001b[38;5;124m\"\u001b[39m\u001b[38;5;124mrx\u001b[39m\u001b[38;5;124m\"\u001b[39m]), InverseCancellation(gates_to_cancel\u001b[38;5;241m=\u001b[39m[CXGate(), XGate(), HGate(), \u001b[43mUnitaryGate\u001b[49m\u001b[43m(\u001b[49m\u001b[43m)\u001b[49m,(RZGate(np\u001b[38;5;241m.\u001b[39mpi), RZGate(\u001b[38;5;241m-\u001b[39mnp\u001b[38;5;241m.\u001b[39mpi)), (RZGate(np\u001b[38;5;241m.\u001b[39mpi\u001b[38;5;241m/\u001b[39m\u001b[38;5;241m2\u001b[39m), RZGate(\u001b[38;5;241m-\u001b[39mnp\u001b[38;5;241m.\u001b[39mpi\u001b[38;5;241m/\u001b[39m\u001b[38;5;241m2\u001b[39m)), (SXGate(),SXdgGate())])])\n\u001b[0;32m     13\u001b[0m \u001b[38;5;66;03m# Create a circuit for the 2 qubit gates and optimize it with the cost layer pass manager\u001b[39;00m\n\u001b[0;32m     14\u001b[0m ansatz_opt\u001b[38;5;241m=\u001b[39minit_cost_layer\u001b[38;5;241m.\u001b[39mrun(ansatz_naive)\n",
      "\u001b[1;31mTypeError\u001b[0m: UnitaryGate.__init__() missing 1 required positional argument: 'data'"
     ]
    }
   ],
   "source": [
    "ansatz_opt, transpiled_ansatz_opt, num_cx_prev=iterate_ansatz_opt(ansatz_naive, backend)"
   ]
  },
  {
   "cell_type": "code",
   "execution_count": null,
   "id": "937f6b05",
   "metadata": {},
   "outputs": [
    {
     "data": {
      "text/plain": [
       "314780"
      ]
     },
     "execution_count": 6,
     "metadata": {},
     "output_type": "execute_result"
    }
   ],
   "source": [
    "num_cx_prev"
   ]
  },
  {
   "cell_type": "code",
   "execution_count": 5,
   "id": "048e2d74",
   "metadata": {},
   "outputs": [],
   "source": [
    "from qiskit.transpiler import PassManager\n",
    "from qiskit.transpiler.passes import (HighLevelSynthesis, InverseCancellation)\n",
    "from qiskit.transpiler.passes.routing.commuting_2q_gate_routing import (SwapStrategy, FindCommutingPauliEvolutions, Commuting2qGateRouter)\n",
    "from qiskit.circuit.library import CXGate, RZGate, RXGate, XGate, HGate, SXGate, SXdgGate, UnitaryGate\n",
    "from qiskit.transpiler.preset_passmanagers import generate_preset_pass_manager\n",
    "def optimize_ansatz(ansatz_naive):\n",
    "    # Choose swap strategy (in this case -> line)\n",
    "    num_qubits=ansatz_naive.num_qubits\n",
    "    swap_strategy = SwapStrategy.from_line([i for i in range(num_qubits)])\n",
    "    edge_coloring = {(idx, idx + 1): (idx + 1) % 2 for idx in range(num_qubits)}\n",
    "    # Define pass manager\n",
    "    init_cost_layer = PassManager([FindCommutingPauliEvolutions(), Commuting2qGateRouter(swap_strategy, edge_coloring,), HighLevelSynthesis(basis_gates=[\"x\", \"u\", \"h\", \"cx\", \"sx\", \"rz\", \"rx\"]), InverseCancellation(gates_to_cancel=[CXGate(), XGate(), HGate(), UnitaryGate(),(RZGate(np.pi), RZGate(-np.pi)), (RZGate(np.pi/2), RZGate(-np.pi/2)), (SXGate(),SXdgGate())])])\n",
    "    # Create a circuit for the 2 qubit gates and optimize it with the cost layer pass manager\n",
    "    ansatz_opt=init_cost_layer.run(ansatz_naive)\n",
    "    return ansatz_opt\n",
    "def get_cx_count(ansatz, backend):\n",
    "    pm = generate_preset_pass_manager(backend=backend, optimization_level=3)\n",
    "    transpiled = pm.run(ansatz)\n",
    "    ops = transpiled.count_ops()\n",
    "    return transpiled, ops.get('cx', 0)\n",
    "def iterate_ansatz_opt(ansatz_naive, backend):\n",
    "    # Inicialization\n",
    "    ansatz_opt = optimize_ansatz(ansatz_naive)\n",
    "    transpiled_ansatz_opt, num_cx_prev = get_cx_count(ansatz_opt, backend)\n",
    "\n",
    "    # Optimization loop\n",
    "    while True:\n",
    "        ansatz_opt_prev=ansatz_opt\n",
    "        transpiled_ansatz_opt_prev=transpiled_ansatz_opt\n",
    "        ansatz_opt = optimize_ansatz(ansatz_opt)\n",
    "        transpiled_ansatz_opt, num_cx = get_cx_count(ansatz_opt, backend)\n",
    "    \n",
    "        if num_cx < num_cx_prev:\n",
    "            num_cx_prev = num_cx\n",
    "        else:\n",
    "            break\n",
    "    return ansatz_opt_prev, transpiled_ansatz_opt_prev, num_cx_prev"
   ]
  }
 ],
 "metadata": {
  "kernelspec": {
   "display_name": "qiskitTFM",
   "language": "python",
   "name": "python3"
  },
  "language_info": {
   "codemirror_mode": {
    "name": "ipython",
    "version": 3
   },
   "file_extension": ".py",
   "mimetype": "text/x-python",
   "name": "python",
   "nbconvert_exporter": "python",
   "pygments_lexer": "ipython3",
   "version": "3.10.16"
  }
 },
 "nbformat": 4,
 "nbformat_minor": 5
}
