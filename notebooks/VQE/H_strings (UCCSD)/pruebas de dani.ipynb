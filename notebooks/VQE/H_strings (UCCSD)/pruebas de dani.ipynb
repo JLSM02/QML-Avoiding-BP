{
 "cells": [
  {
   "cell_type": "code",
   "execution_count": 3,
   "id": "1539dc1f",
   "metadata": {},
   "outputs": [],
   "source": [
    "# Imports\n",
    "import pickle\n",
    "import numpy as np\n",
    "import matplotlib.pyplot as plt\n",
    "import os\n",
    "\n",
    "import sys\n",
    "sys.path.append('../../../')\n",
    "\n",
    "from src import customFunc as cf\n",
    "from src import ansatzs as anz\n",
    "from qiskit.transpiler.preset_passmanagers import generate_preset_pass_manager\n",
    "from qiskit.providers.fake_provider import FakeManila\n",
    "import time\n",
    "\n",
    "import pyscf\n",
    "from qiskit_nature.second_q.drivers import PySCFDriver\n",
    "from qiskit_nature.second_q.mappers import JordanWignerMapper\n",
    "from qiskit_nature.second_q.circuit.library import HartreeFock, UCCSD\n",
    "\n",
    "from qiskit.transpiler.preset_passmanagers import generate_preset_pass_manager\n",
    "from qiskit.providers.fake_provider import FakeGuadalupeV2\n",
    "from qiskit.providers.aer import AerSimulator"
   ]
  },
  {
   "cell_type": "markdown",
   "id": "9f2213f4",
   "metadata": {},
   "source": [
    "## H8"
   ]
  },
  {
   "cell_type": "code",
   "execution_count": 16,
   "id": "6419cbde",
   "metadata": {},
   "outputs": [],
   "source": [
    "# Cargamos los archivos\n",
    "\n",
    "hamiltonians = {}\n",
    "nuclear_repulsions = {}\n",
    "ansatzes = {}\n",
    "\n",
    "dist = 0.700\n",
    "\n",
    "for n_atoms in [2, 4, 6, 8]:\n",
    "    molecule_id = f\"H{n_atoms}\"\n",
    "\n",
    "    with open(f\"data/hamiltonian_{molecule_id}_{dist:.3f}.pkl\", \"rb\") as f:\n",
    "        hamiltonians[molecule_id] = pickle.load(f)\n",
    "\n",
    "    with open(f\"data/nuclear_repulsion_{molecule_id}_{dist:.3f}.pkl\", \"rb\") as f:\n",
    "        nuclear_repulsions[molecule_id] = pickle.load(f)\n",
    "\n",
    "    with open(f\"data/ansatz_{molecule_id}_{dist:.3f}.pkl\", \"rb\") as f:\n",
    "        ansatzes[molecule_id] = pickle.load(f)"
   ]
  },
  {
   "cell_type": "code",
   "execution_count": null,
   "id": "8b222bcf",
   "metadata": {},
   "outputs": [
    {
     "name": "stdout",
     "output_type": "stream",
     "text": [
      "Transpilation time: 218.13428950309753 (s)\n",
      "Circuit info: OrderedDict([('cx', 43715), ('rz', 28329), ('sx', 18722), ('x', 1825)])\n",
      "Depth: 66048\n"
     ]
    }
   ],
   "source": [
    "ansatz_naive = ansatzes['H8']\n",
    "hamiltonan = hamiltonians['H8']\n",
    "\n",
    "backend = FakePrague()\n",
    "\n",
    "# Transpile circuit with a pass manager for a backend\n",
    "pm = generate_preset_pass_manager(backend=backend, optimization_level=3)\n",
    "t0 = time.time()\n",
    "transpiled_ansatz_naive = pm.run(ansatz_naive)\n",
    "t1 = time.time()\n",
    "t_optimized=t1 - t0\n",
    "\n",
    "# Show results\n",
    "print(f\"Transpilation time: {t_optimized} (s)\")\n",
    "print(f'Circuit info: {transpiled_ansatz_naive.count_ops()}')\n",
    "print(f'Depth: {transpiled_ansatz_naive.depth()}')\n",
    "\n",
    "# ansatz_naive.decompose().draw('mpl')"
   ]
  },
  {
   "cell_type": "code",
   "execution_count": 19,
   "id": "bc5756f8",
   "metadata": {},
   "outputs": [
    {
     "name": "stdout",
     "output_type": "stream",
     "text": [
      "Transpilation time: 134.2523169517517 (s)\n",
      "Circuit info: OrderedDict([('cx', 44700), ('rz', 25178), ('sx', 16235), ('x', 1077)])\n",
      "Depth: 63967\n"
     ]
    }
   ],
   "source": [
    "ansatz_opt=anz.optimize_ansatz(ansatz_naive)\n",
    "\n",
    "# Transpile circuit with a pass manager for a backend\n",
    "pm = generate_preset_pass_manager(backend=backend, optimization_level=3)\n",
    "t0 = time.time()\n",
    "transpiled_ansatz_opt = pm.run(ansatz_opt)\n",
    "t1 = time.time()\n",
    "t_optimized=t1 - t0\n",
    "\n",
    "# Show results\n",
    "print(f\"Transpilation time: {t_optimized} (s)\")\n",
    "print(f'Circuit info: {transpiled_ansatz_opt.count_ops()}')\n",
    "print(f'Depth: {transpiled_ansatz_opt.depth()}')"
   ]
  },
  {
   "cell_type": "markdown",
   "id": "8e8d9da0",
   "metadata": {},
   "source": [
    "## O3"
   ]
  },
  {
   "cell_type": "code",
   "execution_count": null,
   "id": "bc7e2d06",
   "metadata": {},
   "outputs": [],
   "source": [
    "# Esto es para generar el ansatz del O3 (No hace falta ejecutar)\n",
    "\n",
    "# Parámetros\n",
    "dist = 1.28  # distancia O-O en Ångstroms\n",
    "angle = 117 * np.pi / 180  # ángulo en radianes\n",
    "\n",
    "# Coordenadas\n",
    "x1, y1 = -dist/2 * np.cos(angle/2), dist/2 * np.sin(angle/2)\n",
    "x3, y3 = dist/2 * np.cos(angle/2), dist/2 * np.sin(angle/2)\n",
    "\n",
    "geometry = f\"O {x1:.4f} {y1:.4f} 0.0; O 0.0 0.0 0.0; O {x3:.4f} {y3:.4f} 0.0\"\n",
    "\n",
    "# Configuramos el driver PySCF\n",
    "driver = PySCFDriver(atom=geometry, basis='sto3g')\n",
    "\n",
    "# Ejecutamos el driver para obtener el problema de la estructura electrónica\n",
    "es_problem = driver.run()\n",
    "\n",
    "# Construimos el Hamiltoniano después de la segunda cuantización\n",
    "hamiltonian = es_problem.second_q_ops()[0]\n",
    "\n",
    "# Aplicamos las transformaciones de Jordan-Wigner\n",
    "mapper = JordanWignerMapper()\n",
    "hamiltonian = mapper.map(hamiltonian)\n",
    "\n",
    "# Ansatz\n",
    "init_state = HartreeFock(\n",
    "    num_spatial_orbitals=es_problem.num_spatial_orbitals,\n",
    "    num_particles=es_problem.num_particles,\n",
    "    qubit_mapper=mapper\n",
    ")\n",
    "\n",
    "ansatz = UCCSD(\n",
    "    num_spatial_orbitals=es_problem.num_spatial_orbitals,\n",
    "    num_particles=es_problem.num_particles,\n",
    "    qubit_mapper=mapper,\n",
    "    initial_state=init_state\n",
    ")\n",
    "\n",
    "base_path = f\"notebooks/VQE/H_strings (UCCSD)/data/\"\n",
    "with open(f\"{base_path}ansatz_O3.pkl\", \"wb\") as f:\n",
    "        pickle.dump(ansatz, f)"
   ]
  },
  {
   "cell_type": "code",
   "execution_count": 27,
   "id": "9b2bec2f",
   "metadata": {},
   "outputs": [
    {
     "name": "stdout",
     "output_type": "stream",
     "text": [
      "Transpilation time: 1475.3436632156372 (s)\n",
      "Circuit info: OrderedDict([('cx', 328368), ('u2', 31349), ('rz', 13680), ('unitary', 4050), ('u3', 22)])\n",
      "Depth: 354614\n"
     ]
    }
   ],
   "source": [
    "with open(f\"data/ansatz_O3.pkl\", \"rb\") as f:\n",
    "    ansatz_naive = pickle.load(f)\n",
    "\n",
    "backend = AerSimulator()\n",
    "\n",
    "# Transpile circuit with a pass manager for a backend\n",
    "pm = generate_preset_pass_manager(backend=backend, optimization_level=3)\n",
    "t0 = time.time()\n",
    "transpiled_ansatz_naive = pm.run(ansatz_naive)\n",
    "t1 = time.time()\n",
    "t_optimized=t1 - t0\n",
    "\n",
    "# Show results\n",
    "print(f\"Transpilation time: {t_optimized} (s)\")\n",
    "print(f'Circuit info: {transpiled_ansatz_naive.count_ops()}')\n",
    "print(f'Depth: {transpiled_ansatz_naive.depth()}')\n",
    "\n",
    "# ansatz_naive.decompose().draw('mpl')"
   ]
  },
  {
   "cell_type": "code",
   "execution_count": 28,
   "id": "91d1fc63",
   "metadata": {},
   "outputs": [
    {
     "name": "stdout",
     "output_type": "stream",
     "text": [
      "Transpilation time: 1141.578495502472 (s)\n",
      "Circuit info: OrderedDict([('cx', 328368), ('u2', 31349), ('rz', 13680), ('unitary', 4050), ('u3', 22)])\n",
      "Depth: 354614\n"
     ]
    }
   ],
   "source": [
    "ansatz_opt=anz.optimize_ansatz(ansatz_naive)\n",
    "\n",
    "# Transpile circuit with a pass manager for a backend\n",
    "pm = generate_preset_pass_manager(backend=backend, optimization_level=3)\n",
    "t0 = time.time()\n",
    "transpiled_ansatz_opt = pm.run(ansatz_opt)\n",
    "t1 = time.time()\n",
    "t_optimized=t1 - t0\n",
    "\n",
    "# Show results\n",
    "print(f\"Transpilation time: {t_optimized} (s)\")\n",
    "print(f'Circuit info: {transpiled_ansatz_opt.count_ops()}')\n",
    "print(f'Depth: {transpiled_ansatz_opt.depth()}')"
   ]
  }
 ],
 "metadata": {
  "kernelspec": {
   "display_name": "qml_avoiding_bp",
   "language": "python",
   "name": "python3"
  },
  "language_info": {
   "codemirror_mode": {
    "name": "ipython",
    "version": 3
   },
   "file_extension": ".py",
   "mimetype": "text/x-python",
   "name": "python",
   "nbconvert_exporter": "python",
   "pygments_lexer": "ipython3",
   "version": "3.11.13"
  }
 },
 "nbformat": 4,
 "nbformat_minor": 5
}
