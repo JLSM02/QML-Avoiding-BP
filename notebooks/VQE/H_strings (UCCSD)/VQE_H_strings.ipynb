{
  "cells": [
    {
      "cell_type": "code",
      "execution_count": null,
      "metadata": {
        "id": "TcRPVgbzauNK"
      },
      "outputs": [
        {
          "ename": "ImportError",
          "evalue": "cannot import name 'SparsePauliOp' from 'qiskit.quantum_info' (unknown location)",
          "output_type": "error",
          "traceback": [
            "\u001b[31m---------------------------------------------------------------------------\u001b[39m",
            "\u001b[31mImportError\u001b[39m                               Traceback (most recent call last)",
            "\u001b[36mCell\u001b[39m\u001b[36m \u001b[39m\u001b[32mIn[4]\u001b[39m\u001b[32m, line 10\u001b[39m\n\u001b[32m      7\u001b[39m \u001b[38;5;28;01mimport\u001b[39;00m\u001b[38;5;250m \u001b[39m\u001b[34;01msys\u001b[39;00m\n\u001b[32m      8\u001b[39m sys.path.append(\u001b[33m'\u001b[39m\u001b[33m../../../\u001b[39m\u001b[33m'\u001b[39m)\n\u001b[32m---> \u001b[39m\u001b[32m10\u001b[39m \u001b[38;5;28;01mfrom\u001b[39;00m\u001b[38;5;250m \u001b[39m\u001b[34;01msrc\u001b[39;00m\u001b[38;5;250m \u001b[39m\u001b[38;5;28;01mimport\u001b[39;00m customFunc \u001b[38;5;28;01mas\u001b[39;00m cf\n\u001b[32m     12\u001b[39m \u001b[38;5;28;01mfrom\u001b[39;00m\u001b[38;5;250m \u001b[39m\u001b[34;01mqiskit\u001b[39;00m\u001b[34;01m.\u001b[39;00m\u001b[34;01mquantum_info\u001b[39;00m\u001b[38;5;250m \u001b[39m\u001b[38;5;28;01mimport\u001b[39;00m Statevector\n",
            "\u001b[36mFile \u001b[39m\u001b[32m/mnt/c/Users/danie/Documents/GitHub/QML-Avoiding-BP/notebooks/VQE/H_strings (UCCSD)/../../../src/customFunc.py:5\u001b[39m\n\u001b[32m      1\u001b[39m \u001b[38;5;28;01mimport\u001b[39;00m\u001b[38;5;250m \u001b[39m\u001b[34;01mnumpy\u001b[39;00m\u001b[38;5;250m \u001b[39m\u001b[38;5;28;01mas\u001b[39;00m\u001b[38;5;250m \u001b[39m\u001b[34;01mnp\u001b[39;00m\n\u001b[32m      2\u001b[39m \u001b[38;5;28;01mimport\u001b[39;00m\u001b[38;5;250m \u001b[39m\u001b[34;01mmatplotlib\u001b[39;00m\u001b[34;01m.\u001b[39;00m\u001b[34;01mpyplot\u001b[39;00m\u001b[38;5;250m \u001b[39m\u001b[38;5;28;01mas\u001b[39;00m\u001b[38;5;250m \u001b[39m\u001b[34;01mplt\u001b[39;00m\n\u001b[32m----> \u001b[39m\u001b[32m5\u001b[39m \u001b[38;5;28;01mfrom\u001b[39;00m\u001b[38;5;250m \u001b[39m\u001b[34;01mqiskit\u001b[39;00m\u001b[34;01m.\u001b[39;00m\u001b[34;01mquantum_info\u001b[39;00m\u001b[38;5;250m \u001b[39m\u001b[38;5;28;01mimport\u001b[39;00m SparsePauliOp\n\u001b[32m      6\u001b[39m \u001b[38;5;28;01mfrom\u001b[39;00m\u001b[38;5;250m \u001b[39m\u001b[34;01mqiskit\u001b[39;00m\u001b[34;01m.\u001b[39;00m\u001b[34;01mprimitives\u001b[39;00m\u001b[38;5;250m \u001b[39m\u001b[38;5;28;01mimport\u001b[39;00m Estimator, BackendEstimator\n\u001b[32m      7\u001b[39m \u001b[38;5;28;01mfrom\u001b[39;00m\u001b[38;5;250m \u001b[39m\u001b[34;01mscipy\u001b[39;00m\u001b[34;01m.\u001b[39;00m\u001b[34;01moptimize\u001b[39;00m\u001b[38;5;250m \u001b[39m\u001b[38;5;28;01mimport\u001b[39;00m minimize\n",
            "\u001b[31mImportError\u001b[39m: cannot import name 'SparsePauliOp' from 'qiskit.quantum_info' (unknown location)"
          ]
        }
      ],
      "source": [
        "# Imports\n",
        "import pickle\n",
        "import numpy as np\n",
        "import matplotlib.pyplot as plt\n",
        "\n",
        "import sys\n",
        "sys.path.append('../../../')\n",
        "\n",
        "from src import customFunc as cf\n",
        "\n",
        "from qiskit.quantum_info import Statevector"
      ]
    },
    {
      "cell_type": "code",
      "execution_count": null,
      "metadata": {},
      "outputs": [
        {
          "ename": "NameError",
          "evalue": "name 'pickle' is not defined",
          "output_type": "error",
          "traceback": [
            "\u001b[31m---------------------------------------------------------------------------\u001b[39m",
            "\u001b[31mNameError\u001b[39m                                 Traceback (most recent call last)",
            "\u001b[36mCell\u001b[39m\u001b[36m \u001b[39m\u001b[32mIn[2]\u001b[39m\u001b[32m, line 13\u001b[39m\n\u001b[32m     10\u001b[39m molecule_id = \u001b[33mf\u001b[39m\u001b[33m\"\u001b[39m\u001b[33mH\u001b[39m\u001b[38;5;132;01m{\u001b[39;00mn_atoms\u001b[38;5;132;01m}\u001b[39;00m\u001b[33m\"\u001b[39m\n\u001b[32m     12\u001b[39m \u001b[38;5;28;01mwith\u001b[39;00m \u001b[38;5;28mopen\u001b[39m(\u001b[33mf\u001b[39m\u001b[33m\"\u001b[39m\u001b[33mdata/hamiltonian_\u001b[39m\u001b[38;5;132;01m{\u001b[39;00mmolecule_id\u001b[38;5;132;01m}\u001b[39;00m\u001b[33m_\u001b[39m\u001b[38;5;132;01m{\u001b[39;00mdist\u001b[38;5;132;01m:\u001b[39;00m\u001b[33m.3f\u001b[39m\u001b[38;5;132;01m}\u001b[39;00m\u001b[33m.pkl\u001b[39m\u001b[33m\"\u001b[39m, \u001b[33m\"\u001b[39m\u001b[33mrb\u001b[39m\u001b[33m\"\u001b[39m) \u001b[38;5;28;01mas\u001b[39;00m f:\n\u001b[32m---> \u001b[39m\u001b[32m13\u001b[39m     hamiltonians[molecule_id] = \u001b[43mpickle\u001b[49m.load(f)\n\u001b[32m     15\u001b[39m \u001b[38;5;28;01mwith\u001b[39;00m \u001b[38;5;28mopen\u001b[39m(\u001b[33mf\u001b[39m\u001b[33m\"\u001b[39m\u001b[33mdata/nuclear_repulsion_\u001b[39m\u001b[38;5;132;01m{\u001b[39;00mmolecule_id\u001b[38;5;132;01m}\u001b[39;00m\u001b[33m_\u001b[39m\u001b[38;5;132;01m{\u001b[39;00mdist\u001b[38;5;132;01m:\u001b[39;00m\u001b[33m.3f\u001b[39m\u001b[38;5;132;01m}\u001b[39;00m\u001b[33m.pkl\u001b[39m\u001b[33m\"\u001b[39m, \u001b[33m\"\u001b[39m\u001b[33mrb\u001b[39m\u001b[33m\"\u001b[39m) \u001b[38;5;28;01mas\u001b[39;00m f:\n\u001b[32m     16\u001b[39m     nuclear_repulsions[molecule_id] = pickle.load(f)\n",
            "\u001b[31mNameError\u001b[39m: name 'pickle' is not defined"
          ]
        }
      ],
      "source": [
        "# Cargamos los archivos\n",
        "\n",
        "hamiltonians = {}\n",
        "nuclear_repulsions = {}\n",
        "ansatzes = {}\n",
        "\n",
        "dist = 0.700\n",
        "\n",
        "for n_atoms in [2, 4, 6, 8]:\n",
        "    molecule_id = f\"H{n_atoms}\"\n",
        "\n",
        "    with open(f\"data/hamiltonian_{molecule_id}_{dist:.3f}.pkl\", \"rb\") as f:\n",
        "        hamiltonians[molecule_id] = pickle.load(f)\n",
        "\n",
        "    with open(f\"data/nuclear_repulsion_{molecule_id}_{dist:.3f}.pkl\", \"rb\") as f:\n",
        "        nuclear_repulsions[molecule_id] = pickle.load(f)\n",
        "\n",
        "    with open(f\"data/ansatz_{molecule_id}_{dist:.3f}.pkl\", \"rb\") as f:\n",
        "        ansatzes[molecule_id] = pickle.load(f)\n",
        "\n",
        "#ansatz.decompose().draw(\"mpl\")"
      ]
    },
    {
      "cell_type": "code",
      "execution_count": null,
      "metadata": {},
      "outputs": [],
      "source": [
        "with open(\"data/hamiltonian0.719.pkl\", \"rb\") as f:\n",
        "    hamiltonian = pickle.load(f)\n",
        "\n",
        "print(hamiltonian)\n",
        "\n",
        "data = []\n",
        "\n",
        "for j in range(3):\n",
        "    data.append(cf.variance_vs_nQubits(anz.build_Nlocal_ansatz, 4, 8, hamiltonian, j, 1000, True, True, True))"
      ]
    }
  ],
  "metadata": {
    "colab": {
      "provenance": []
    },
    "kernelspec": {
      "display_name": "Python 3",
      "language": "python",
      "name": "python3"
    },
    "language_info": {
      "codemirror_mode": {
        "name": "ipython",
        "version": 3
      },
      "file_extension": ".py",
      "mimetype": "text/x-python",
      "name": "python",
      "nbconvert_exporter": "python",
      "pygments_lexer": "ipython3",
      "version": "3.11.11"
    }
  },
  "nbformat": 4,
  "nbformat_minor": 0
}
