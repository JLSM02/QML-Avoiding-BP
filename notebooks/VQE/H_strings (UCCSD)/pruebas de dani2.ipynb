{
 "cells": [
  {
   "cell_type": "code",
   "execution_count": 3,
   "id": "1539dc1f",
   "metadata": {},
   "outputs": [],
   "source": [
    "# Imports\n",
    "import pickle\n",
    "import numpy as np\n",
    "import matplotlib.pyplot as plt\n",
    "import os\n",
    "\n",
    "import sys\n",
    "sys.path.append('../../../')\n",
    "\n",
    "from src import customFunc as cf\n",
    "from src import ansatzs as anz\n",
    "from qiskit.transpiler.preset_passmanagers import generate_preset_pass_manager\n",
    "from qiskit.providers.fake_provider import FakeManila\n",
    "import time\n",
    "\n",
    "import pyscf\n",
    "from qiskit_nature.second_q.drivers import PySCFDriver\n",
    "from qiskit_nature.second_q.mappers import JordanWignerMapper\n",
    "from qiskit_nature.second_q.operators import FermionicOp\n",
    "from qiskit_nature.second_q.circuit.library import HartreeFock, UCCSD\n",
    "\n",
    "from qiskit.transpiler.preset_passmanagers import generate_preset_pass_manager\n",
    "from qiskit.providers.fake_provider import FakeGuadalupeV2\n",
    "from qiskit.providers.aer import AerSimulator"
   ]
  },
  {
   "cell_type": "code",
   "execution_count": null,
   "id": "73fe5aab",
   "metadata": {},
   "outputs": [],
   "source": [
    "obs = FermionicOp({\"+_1 -_0\": 1.0})\n",
    "mapper = JordanWignerMapper()\n",
    "obs_qubit = mapper.map(obs)\n",
    "\n",
    "def build_UCCSD_ansatz(num_qubits, obs_qubit):\n",
    "\n",
    "    num_spatial_orbitals = num_qubits // 2\n",
    "\n",
    "    n_alpha = n_beta = num_spatial_orbitals - 1\n",
    "    num_particles = (n_alpha, n_beta)\n",
    "\n",
    "    hf_initial_state = HartreeFock(\n",
    "        num_spatial_orbitals=num_spatial_orbitals,\n",
    "        num_particles=num_particles,\n",
    "        qubit_mapper=mapper\n",
    "    )\n",
    "\n",
    "    ansatz = UCCSD(\n",
    "        num_spatial_orbitals=num_spatial_orbitals,\n",
    "        num_particles=num_particles,\n",
    "        qubit_mapper=mapper,\n",
    "        initial_state=hf_initial_state\n",
    "    )\n",
    "\n",
    "    return ansatz, ansatz.num_parameters\n",
    "\n",
    "ansatz, num_params = build_UCCSD_ansatz(obs_qubit, 4)\n",
    "ansatz.decompose().draw(\"mpl\")\n",
    "\n",
    "data = []\n",
    "#data.append(cf.variance_vs_nQubits(build_UCCSD_ansatz, 4, 8, obs_qubit, 0, 1000, True, True, True))"
   ]
  }
 ],
 "metadata": {
  "kernelspec": {
   "display_name": "qml_avoiding_bp",
   "language": "python",
   "name": "python3"
  },
  "language_info": {
   "codemirror_mode": {
    "name": "ipython",
    "version": 3
   },
   "file_extension": ".py",
   "mimetype": "text/x-python",
   "name": "python",
   "nbconvert_exporter": "python",
   "pygments_lexer": "ipython3",
   "version": "3.11.13"
  }
 },
 "nbformat": 4,
 "nbformat_minor": 5
}
