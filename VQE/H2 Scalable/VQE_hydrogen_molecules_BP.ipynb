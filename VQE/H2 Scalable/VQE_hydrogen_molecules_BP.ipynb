{
 "cells": [
  {
   "cell_type": "code",
   "execution_count": 1,
   "id": "d41c4c98",
   "metadata": {},
   "outputs": [],
   "source": [
    "# Para cargar lo necesario\n",
    "import pickle\n",
    "\n",
    "import sys\n",
    "import os\n",
    "\n",
    "# Agrega el path al directorio raíz del proyecto\n",
    "sys.path.append(os.path.abspath(os.path.join(os.getcwd(), \"../../\")))\n",
    "\n",
    "# Ahora puedes importar\n",
    "import customFunctions as cf\n",
    "\n",
    "#from qiskit.circuit.library import TwoLocal\n",
    "#from qiskit.circuit import QuantumCircuit"
   ]
  },
  {
   "cell_type": "code",
   "execution_count": 2,
   "id": "89cf9f11",
   "metadata": {},
   "outputs": [],
   "source": [
    "from qiskit.circuit.library import TwoLocal\n",
    "from qiskit.circuit import QuantumCircuit\n",
    "\n",
    "def crear_ansatz_nlocal(num_qubits: int, reps: int = 1) -> tuple[QuantumCircuit, int]:\n",
    "    \"\"\"\n",
    "    Crea un ansatz N-local (TwoLocal) con un número dado de qubits y repeticiones.\n",
    "    Devuelve el circuito y el número de parámetros libres.\n",
    "\n",
    "    Args:\n",
    "        num_qubits (int): Número de qubits del circuito.\n",
    "        reps (int): Número de repeticiones (capas) del ansatz.\n",
    "\n",
    "    Returns:\n",
    "        tuple: (QuantumCircuit, número de parámetros del circuito)\n",
    "    \"\"\"\n",
    "    ansatz = TwoLocal(num_qubits,\n",
    "                      rotation_blocks='ry',\n",
    "                      entanglement_blocks='cz',\n",
    "                      entanglement='linear',\n",
    "                      reps=reps,\n",
    "                      insert_barriers=True)\n",
    "    \n",
    "    return ansatz, ansatz.num_parameters\n"
   ]
  },
  {
   "cell_type": "code",
   "execution_count": 3,
   "id": "9fad57cb",
   "metadata": {},
   "outputs": [
    {
     "name": "stdout",
     "output_type": "stream",
     "text": [
      "SparsePauliOp(['IIII', 'IIIZ', 'IIZI', 'IIZZ', 'IZII', 'IZIZ', 'ZIII', 'ZIIZ', 'YYYY', 'XXYY', 'YYXX', 'XXXX', 'IZZI', 'ZIZI', 'ZZII'],\n",
      "              coeffs=[-0.80499838+0.j,  0.17472226+0.j, -0.23347838+0.j,  0.12184887+0.j,\n",
      "  0.17472226+0.j,  0.16970294+0.j, -0.23347838+0.j,  0.16685625+0.j,\n",
      "  0.04500738+0.j,  0.04500738+0.j,  0.04500738+0.j,  0.04500738+0.j,\n",
      "  0.16685625+0.j,  0.17539742+0.j,  0.12184887+0.j])\n"
     ]
    }
   ],
   "source": [
    "# 0.719\n",
    "\n",
    "with open(\"hamiltonian0.719.pkl\", \"rb\") as f:\n",
    "    hamiltonian = pickle.load(f)\n",
    "\n",
    "print(hamiltonian)"
   ]
  },
  {
   "cell_type": "code",
   "execution_count": 4,
   "id": "9474188c",
   "metadata": {},
   "outputs": [
    {
     "name": "stdout",
     "output_type": "stream",
     "text": [
      "@@@@@@@@@@@@@@@@@@@@@@@@@@@@@@@@@@@@@@@@@@@@@@     @@@@@@@@@@@@@@@@@@@@@@@@@@@@@@@@@@@@@@@@@@@@@@\n",
      "@@@@@@@@@@@@@@@@@@@@@@@@@@@@@@@@@@@@@@@@@@@@  @@@@@+ @@@@@@@@@@@@@@@@@@@@@@@@@@@@@@@@@@@@@@@@@@@@\n",
      "@@@@@@@@@@@@@@@@@@@@@@@@@@@@@@@@@@@@@@@@@@@ @@@@@@@@@ *@@@@@@@@@@@@@@@@@@@@@@@@@@@@@@@@@@@@@@@@@@\n",
      "@@@@@@@@@@@@@@@@@@@@@@@@@@@@@@@@@@@@@@@@@@ @@@@@@@@@@@ @@@@@@@@@@@@@@@@@@@@@@@@@@@@@@@@@@@@@@@@@@\n",
      "@@@@@@@@@@@@@@@@@@@@@@@@@@@@@@@@@@@@@@@@@ @@@@@@@@@@@@@ @@@@@@@@@@@@@@@@@@@@@@@@@@@@@@@@@@@@@@@@@\n",
      "@@@@@@@@@@@@@@@@@@@@@@@@@@@@@@@@@@@@@@@@  @@@@@@@@@@@@@  @@@@@=   @@@@@@@@@@@@@@@@@@@@@@@@@@@@@@@\n",
      "@@@@@@@@@@@@@@@@@@@@@@@@:        @@@@@@@ @@@@@@@@@@@@@@@ @@@@  .    @    @@@@@@@@@@@@@@@@@@@@@@@@\n",
      "@@@@@@@@@@@@@@@@@@@@@@ @@@@@@@@@@@@@     @@@@@@@@@@@@@@@    @      =@@@@@@ *@@@@@@@@@@@@@@@@@@@@@\n",
      "@@@@@@@@@@@@@@@@@@@@@  @@@@@@@@@@@@@@@@  -   #@@@@@@    @ @@@@@   @@@@@@@@@ @@@@@@@@@@@@@@@@@@@@@\n",
      "@@@@@@@@@@@@@@@@@@@@@  @@@@@@@@@@@@@@@@ @@@@@@     @@@@@@ .@@@@@@@@@@@@@@@  @@@@@@@@@@@@@@@@@@@@@\n",
      "@@@@@@@@@@@@@@@@@@@@@@@@@@@@@@@@@@@@@@  @@@@   @@@:  -@@@  @@@@@@@@@@@@@@  @@@@@@@@@@@@@@@@@@@@@@\n",
      "@@@@@@@@@@@@@@@@@@@@@@@      @@@@@@@@@     @@@@@:@@@@@     @@@@@@@@@@@@@  @@@@@@@@@@@@@@@@@@@@@@@\n",
      "@@@@@@@@@@@@@@@@@@@@@@@      @@@@@@@@   @@@@         @@@@   @@@@@@@@@@  @@@@@@@@@@@@@@@@@@@@@@@@@\n",
      "@@@@@@@@@@@@@@@@@@@@@@@     @@@@@@   @  @@@           @@@@ @#  @@@@@  @@@@@@@@@@@@@@@@@@@@@@@@@@@\n",
      "@@@@@@@@@@@@@@@@@@@@@@@@@@@@@  =  @@@@ :@@            @@@@ @@@@     @@@@@@@@@@@@@@@@@@@@@@@@@@@@@\n",
      "@@@@@@@@@@@@@@@@@@@@@@@@@@@@@    :@@@@ :@@             @@@ @@@@@    @@@@@@@@@@@@@@@@@@@@@@@@@@@@@\n",
      "@@@@@@@@@@@@@@@@@@@@@@@@@@@  @@@@@  @@  @@@           @@@@ @@  @@@@@  @@@@@@@@@@@@@@@@@@@@@@@@@@@\n",
      "@@@@@@@@@@@@@@@@@@@@@@@@@  @@@@@@@@@@   @@@@         @@@@.  %@@@@@@@@@  @@@@@@@@@@@@@@@@@@@@@@@@@\n",
      "@@@@@@@@@@@@@@@@@@@@@@@@ @@@@@@@@@@@@@     @@@@@ @@@@@@    @@@@@@@@@@@@@ =@@@@@@@@@@@@@@@@@@@@@@@\n",
      "@@@@@@@@@@@@@@@@@@@@@@  @@@@@@@@@@@@@@  @@@   @@@@@   @@@  @@@@@@@@@@@@@@  @@@@@@@@@@@@@@@@@@@@@@\n",
      "@@@@@@@@@@@@@@@@@@@@@- @@@@@@@@@@@@@@@@ @@@@@@@    @@@@@@  @@@@@@@@@@@@@@@  @@@@@@@@@@@@@@@@@@@@@\n",
      "@@@@@@@@@@@@@@@@@@@@@  @@@@@@@@@@@@@@@@ #@    @@@@@    @@ @@@@@@@@@@@@@@@@@ @@@@@@@@@@@@@@@@@@@@@\n",
      "@@@@@@@@@@@@@@@@@@@@@@ @@@@@@@@@@@@@.    @@@@@@@@@@@@@@@     @@@@@@@@@@@@@  @@@@@@@@@@@@@@@@@@@@@\n",
      "@@@@@@@@@@@@@@@@@@@@@@@@          @@@@@@ @@@@@@@@@@@@@@@ %@@@@@          #@@@@@@@@@@@@@@@@@@@@@@@\n",
      "@@@@@@@@@@@@@@@@@@@@@@@@@@@@@@@@@@@@@@@@  @@@@@@@@@@@@@@@@@@@@@@@@@@@@@@@@@@@@@@@@@@@@@@@@@@@@@@@\n",
      "@@@@@@@@@@@@@@@@@@@@@@@@@@@@@@@@@@@@@@@@@ @@@@@@@@@@      @@@@@@@@@@@@@@@@@@@@@@@@@@@@@@@@@@@@@@@\n",
      "@@@@@@@@@@@@@@@@@@@@@@@@@@@@@@@@@@@@@@@@@@ @@@@@@@@@      @@@@@@@@@@@@@@@@@@@@@@@@@@@@@@@@@@@@@@@\n",
      "@@@@@@@@@@@@@@@@@@@@@@@@@@@@@@@@@@@@@@@@@@@ @@@@@@@@@    @@@@@@@@@@@@@@@@@@@@@@@@@@@@@@@@@@@@@@@@\n",
      "@@@@@@@@@@@@@@@@@@@@@@@@@@@@@@@@@@@@@@@@@@@@ *@@@@@@ @@@@@@@@@@@@@@@@@@@@@@@@@@@@@@@@@@@@@@@@@@@@\n",
      "@@@@@@@@@@@@@@@@@@@@@@@@@@@@@@@@@@@@@@@@@@@@@+      @@@@@@@@@@@@@@@@@@@@@@@@@@@@@@@@@@@@@@@@@@@@@\n",
      "\n",
      "\n",
      "=====================================================\n",
      "Calculando varianzas con 4 qubits.\n",
      "\n",
      "Varianza del valor esperado: 0.08798610626668835\n",
      "Varianza de la derivada: 0.026275812260323366\n",
      "\n",
      "=====================================================\n",
      "Calculando varianzas con 5 qubits.\n",
      "\n",
      "Varianza del valor esperado: 0.0820759323274275\n",
      "Varianza de la derivada: 0.003826112829992291\n",
      "\n",
      "=====================================================\n",
      "Calculando varianzas con 6 qubits.\n",
      "\n",
      "Varianza del valor esperado: 0.0896505724871992\n",
      "Varianza de la derivada: 1.252771206505232e-32\n",
      "\n",
      "=====================================================\n",
      "Calculando varianzas con 7 qubits.\n",
      "\n",
      "Varianza del valor esperado: 0.07849544260601798\n",
      "Varianza de la derivada: 8.492272533978852e-33\n",
      "\n",
      "=====================================================\n",
      "Calculando varianzas con 8 qubits.\n",
      "\n",
      "Varianza del valor esperado: 0.07346843998062204\n",
      "Varianza de la derivada: 1.3434979143254254e-32\n",
      "\n",
      "=====================================================\n",
      "Calculando varianzas con 9 qubits.\n",
      "\n",
      "Varianza del valor esperado: 0.08550227153936142\n",
      "Varianza de la derivada: 1.3362178991356414e-32\n",
      "\n",
      "=====================================================\n",
      "Calculando varianzas con 10 qubits.\n",
      "\n",
      "Varianza del valor esperado: 0.08981088550376926\n",
      "Varianza de la derivada: 1.968153430634874e-32\n"
     ]
    },
    {
     "data": {
      "image/png": "[encoded data removed]",
      "text/plain": [
       "<Figure size 640x480 with 1 Axes>"
      ]
     },
     "metadata": {},
     "output_type": "display_data"
    }
   ],
   "source": [
    "data = cf.variance_vs_nQubits(crear_ansatz_nlocal, 4, 10, hamiltonian, 0, 100)"
   ]
  }
 ],
 "metadata": {
  "kernelspec": {
   "display_name": "qiskit-tfm",
   "language": "python",
   "name": "python3"
  },
  "language_info": {
   "codemirror_mode": {
    "name": "ipython",
    "version": 3
   },
   "file_extension": ".py",
   "mimetype": "text/x-python",
   "name": "python",
   "nbconvert_exporter": "python",
   "pygments_lexer": "ipython3",
   "version": "3.11.11"
  }
 },
 "nbformat": 4,
 "nbformat_minor": 5
}
