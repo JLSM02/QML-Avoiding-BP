{
 "cells": [
  {
   "cell_type": "code",
   "execution_count": 11,
   "id": "d41c4c98",
   "metadata": {},
   "outputs": [],
   "source": [
    "import numpy as np\n",
    "import matplotlib.pyplot as plt\n",
    "\n",
    "from qiskit.circuit import QuantumCircuit, Parameter\n",
    "from qiskit.quantum_info import SparsePauliOp\n",
    "from qiskit.circuit.library import NLocal, CCXGate, CRZGate, RXGate, XGate\n",
    "\n",
    "from qiskit_algorithms import optimizers\n",
    "from qiskit.primitives import Estimator\n",
    "\n",
    "from scipy.optimize import minimize\n",
    "\n",
    "# import matplotlib.pyplot as plt\n",
    "\n",
    "from qiskit import *\n",
    "from qiskit.visualization import *\n",
    "# from qiskit_aer import Aer\n",
    "\n",
    "from qiskit_nature.second_q.hamiltonians import ElectronicEnergy\n",
    "from qiskit_nature.second_q.problems import ElectronicStructureProblem\n",
    "from qiskit_nature.second_q.properties import ParticleNumber\n",
    "from qiskit_nature.second_q.drivers import PySCFDriver\n",
    "from qiskit_nature.second_q.mappers import JordanWignerMapper\n",
    "\n",
    "# Para cargar lo necesario\n",
    "import pickle"
   ]
  },
  {
   "cell_type": "code",
   "execution_count": 13,
   "id": "8d6c03f7",
   "metadata": {},
   "outputs": [],
   "source": [
    "def expand_hamiltonian(op, total_qubits):\n",
    "    expanded_paulis = []\n",
    "    for pauli, coeff in zip(op.paulis, op.coeffs):\n",
    "        pauli_str = pauli.to_label()\n",
    "        # Añadir identidades antes y después según la posición deseada\n",
    "        new_pauli = (\n",
    "            pauli_str + \"I\" * (total_qubits - len(pauli_str))\n",
    "        )\n",
    "        expanded_paulis.append((new_pauli, coeff))\n",
    "    return SparsePauliOp.from_list(expanded_paulis)"
   ]
  },
  {
   "cell_type": "code",
   "execution_count": 15,
   "id": "622ded39",
   "metadata": {},
   "outputs": [
    {
     "ename": "FileNotFoundError",
     "evalue": "[Errno 2] No such file or directory: 'hamiltonian_hidrogen_reduced.pkl'",
     "output_type": "error",
     "traceback": [
      "\u001b[1;31m---------------------------------------------------------------------------\u001b[0m",
      "\u001b[1;31mFileNotFoundError\u001b[0m                         Traceback (most recent call last)",
      "Cell \u001b[1;32mIn[15], line 2\u001b[0m\n\u001b[0;32m      1\u001b[0m \u001b[38;5;66;03m# Cargar el ansatz desde el archivo\u001b[39;00m\n\u001b[1;32m----> 2\u001b[0m \u001b[38;5;28;01mwith\u001b[39;00m \u001b[38;5;28;43mopen\u001b[39;49m\u001b[43m(\u001b[49m\u001b[38;5;124;43m\"\u001b[39;49m\u001b[38;5;124;43mhamiltonian_hidrogen_reduced.pkl\u001b[39;49m\u001b[38;5;124;43m\"\u001b[39;49m\u001b[43m,\u001b[49m\u001b[43m \u001b[49m\u001b[38;5;124;43m\"\u001b[39;49m\u001b[38;5;124;43mrb\u001b[39;49m\u001b[38;5;124;43m\"\u001b[39;49m\u001b[43m)\u001b[49m \u001b[38;5;28;01mas\u001b[39;00m f:\n\u001b[0;32m      3\u001b[0m     hamiltonian\u001b[38;5;241m=\u001b[39m pickle\u001b[38;5;241m.\u001b[39mload(f)\n",
      "File \u001b[1;32mc:\\Anaconda\\envs\\qiskitTFM\\lib\\site-packages\\IPython\\core\\interactiveshell.py:324\u001b[0m, in \u001b[0;36m_modified_open\u001b[1;34m(file, *args, **kwargs)\u001b[0m\n\u001b[0;32m    317\u001b[0m \u001b[38;5;28;01mif\u001b[39;00m file \u001b[38;5;129;01min\u001b[39;00m {\u001b[38;5;241m0\u001b[39m, \u001b[38;5;241m1\u001b[39m, \u001b[38;5;241m2\u001b[39m}:\n\u001b[0;32m    318\u001b[0m     \u001b[38;5;28;01mraise\u001b[39;00m \u001b[38;5;167;01mValueError\u001b[39;00m(\n\u001b[0;32m    319\u001b[0m         \u001b[38;5;124mf\u001b[39m\u001b[38;5;124m\"\u001b[39m\u001b[38;5;124mIPython won\u001b[39m\u001b[38;5;124m'\u001b[39m\u001b[38;5;124mt let you open fd=\u001b[39m\u001b[38;5;132;01m{\u001b[39;00mfile\u001b[38;5;132;01m}\u001b[39;00m\u001b[38;5;124m by default \u001b[39m\u001b[38;5;124m\"\u001b[39m\n\u001b[0;32m    320\u001b[0m         \u001b[38;5;124m\"\u001b[39m\u001b[38;5;124mas it is likely to crash IPython. If you know what you are doing, \u001b[39m\u001b[38;5;124m\"\u001b[39m\n\u001b[0;32m    321\u001b[0m         \u001b[38;5;124m\"\u001b[39m\u001b[38;5;124myou can use builtins\u001b[39m\u001b[38;5;124m'\u001b[39m\u001b[38;5;124m open.\u001b[39m\u001b[38;5;124m\"\u001b[39m\n\u001b[0;32m    322\u001b[0m     )\n\u001b[1;32m--> 324\u001b[0m \u001b[38;5;28;01mreturn\u001b[39;00m io_open(file, \u001b[38;5;241m*\u001b[39margs, \u001b[38;5;241m*\u001b[39m\u001b[38;5;241m*\u001b[39mkwargs)\n",
      "\u001b[1;31mFileNotFoundError\u001b[0m: [Errno 2] No such file or directory: 'hamiltonian_hidrogen_reduced.pkl'"
     ]
    }
   ],
   "source": [
    "# Cargar el ansatz desde el archivo\n",
    "with open(\"hamiltonian_hidrogen_reduced.pkl\", \"rb\") as f:\n",
    "    hamiltonian= pickle.load(f)"
   ]
  },
  {
   "cell_type": "code",
   "execution_count": 7,
   "id": "21e7013c",
   "metadata": {},
   "outputs": [
    {
     "name": "stdout",
     "output_type": "stream",
     "text": [
      "SparsePauliOp(['IIII', 'ZIII', 'IZII', 'ZZII', 'YYII', 'XXII'],\n",
      "              coeffs=[-0.4804+0.j,  0.3435+0.j, -0.4347+0.j,  0.5716+0.j,  0.091 +0.j,\n",
      "  0.091 +0.j])\n"
     ]
    }
   ],
   "source": [
    "expanded_hamiltonian = expand_hamiltonian(hamiltonian, total_qubits=4)\n",
    "print(expanded_hamiltonian)"
   ]
  }
 ],
 "metadata": {
  "kernelspec": {
   "display_name": "qiskitTFM",
   "language": "python",
   "name": "python3"
  },
  "language_info": {
   "codemirror_mode": {
    "name": "ipython",
    "version": 3
   },
   "file_extension": ".py",
   "mimetype": "text/x-python",
   "name": "python",
   "nbconvert_exporter": "python",
   "pygments_lexer": "ipython3",
   "version": "3.10.16"
  }
 },
 "nbformat": 4,
 "nbformat_minor": 5
}
