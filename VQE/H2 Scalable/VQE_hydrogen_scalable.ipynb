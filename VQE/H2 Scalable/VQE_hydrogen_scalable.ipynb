{
 "cells": [
  {
   "cell_type": "code",
   "execution_count": 1,
   "id": "d41c4c98",
   "metadata": {},
   "outputs": [],
   "source": [
    "import numpy as np\n",
    "import matplotlib.pyplot as plt\n",
    "\n",
    "from qiskit.circuit import QuantumCircuit, Parameter\n",
    "from qiskit.quantum_info import SparsePauliOp\n",
    "from qiskit.circuit.library import NLocal, CCXGate, CRZGate, RXGate, XGate\n",
    "\n",
    "from qiskit_algorithms import optimizers\n",
    "from qiskit.primitives import Estimator\n",
    "\n",
    "from scipy.optimize import minimize\n",
    "\n",
    "# import matplotlib.pyplot as plt\n",
    "\n",
    "from qiskit import *\n",
    "from qiskit.visualization import *\n",
    "# from qiskit_aer import Aer\n",
    "\n",
    "from qiskit_nature.second_q.hamiltonians import ElectronicEnergy\n",
    "from qiskit_nature.second_q.problems import ElectronicStructureProblem\n",
    "from qiskit_nature.second_q.properties import ParticleNumber\n",
    "from qiskit_nature.second_q.drivers import PySCFDriver\n",
    "from qiskit_nature.second_q.mappers import JordanWignerMapper\n",
    "\n",
    "# Para cargar lo necesario\n",
    "import pickle"
   ]
  },
  {
   "cell_type": "code",
   "execution_count": 2,
   "id": "8d6c03f7",
   "metadata": {},
   "outputs": [],
   "source": [
    "def expand_hamiltonian(op, total_qubits):\n",
    "    expanded_paulis = []\n",
    "    for pauli, coeff in zip(op.paulis, op.coeffs):\n",
    "        pauli_str = pauli.to_label()\n",
    "        # Añadir identidades antes y después según la posición deseada\n",
    "        new_pauli = (\n",
    "            pauli_str + \"I\" * (total_qubits - len(pauli_str))\n",
    "        )\n",
    "        expanded_paulis.append((new_pauli, coeff))\n",
    "    return SparsePauliOp.from_list(expanded_paulis)"
   ]
  },
  {
   "cell_type": "code",
   "execution_count": 5,
   "id": "622ded39",
   "metadata": {},
   "outputs": [
    {
     "name": "stdout",
     "output_type": "stream",
     "text": [
      "SparsePauliOp(['II', 'ZI', 'IZ', 'ZZ', 'YY', 'XX'],\n",
      "              coeffs=[-0.4804+0.j,  0.3435+0.j, -0.4347+0.j,  0.5716+0.j,  0.091 +0.j,\n",
      "  0.091 +0.j])\n"
     ]
    }
   ],
   "source": [
    "# Cargar el ansatz desde el archivo\n",
    "with open(\"hamiltonian_hidrogen_reduced.pkl\", \"rb\") as f:\n",
    "    hamiltonian= pickle.load(f)\n",
    "print(hamiltonian)"
   ]
  },
  {
   "cell_type": "code",
   "execution_count": 6,
   "id": "21e7013c",
   "metadata": {},
   "outputs": [
    {
     "name": "stdout",
     "output_type": "stream",
     "text": [
      "SparsePauliOp(['IIII', 'ZIII', 'IZII', 'ZZII', 'YYII', 'XXII'],\n",
      "              coeffs=[-0.4804+0.j,  0.3435+0.j, -0.4347+0.j,  0.5716+0.j,  0.091 +0.j,\n",
      "  0.091 +0.j])\n"
     ]
    }
   ],
   "source": [
    "expanded_hamiltonian = expand_hamiltonian(hamiltonian, total_qubits=4)\n",
    "print(expanded_hamiltonian)"
   ]
  }
 ],
 "metadata": {
  "kernelspec": {
   "display_name": "qiskitTFM",
   "language": "python",
   "name": "python3"
  },
  "language_info": {
   "codemirror_mode": {
    "name": "ipython",
    "version": 3
   },
   "file_extension": ".py",
   "mimetype": "text/x-python",
   "name": "python",
   "nbconvert_exporter": "python",
   "pygments_lexer": "ipython3",
   "version": "3.10.16"
  }
 },
 "nbformat": 4,
 "nbformat_minor": 5
}
