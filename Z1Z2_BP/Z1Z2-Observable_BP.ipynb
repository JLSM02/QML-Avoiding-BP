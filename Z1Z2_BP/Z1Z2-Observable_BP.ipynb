{
 "cells": [
  {
   "cell_type": "code",
   "execution_count": 5,
   "id": "d41c4c98",
   "metadata": {},
   "outputs": [],
   "source": [
    "# Para cargar lo necesario\n",
    "import pickle\n",
    "\n",
    "import sys\n",
    "import os\n",
    "\n",
    "# Agrega el path al directorio raíz del proyecto\n",
    "sys.path.append(os.path.abspath(os.path.join(os.getcwd(), \"../\")))\n",
    "\n",
    "# Ahora puedes importar\n",
    "import customFunctions as cf\n",
    "\n",
    "from qiskit.circuit.library import EfficientSU2\n",
    "from qiskit.circuit import QuantumCircuit\n",
    "\n",
    "from qiskit.quantum_info import SparsePauliOp"
   ]
  },
  {
   "cell_type": "code",
   "execution_count": 18,
   "id": "852b8f59",
   "metadata": {},
   "outputs": [
    {
     "name": "stdout",
     "output_type": "stream",
     "text": [
      "SparsePauliOp(['ZZ'],\n",
      "              coeffs=[1.+0.j])\n"
     ]
    }
   ],
   "source": [
    "hamiltonian = SparsePauliOp.from_list([(\"ZZ\",1)])\n",
    "print(hamiltonian)"
   ]
  },
  {
   "cell_type": "code",
   "execution_count": 17,
   "id": "b04e369b",
   "metadata": {},
   "outputs": [
    {
     "ename": "TypeError",
     "evalue": "'SparsePauliOp' object cannot be interpreted as an integer",
     "output_type": "error",
     "traceback": [
      "\u001b[31m---------------------------------------------------------------------------\u001b[39m",
      "\u001b[31mTypeError\u001b[39m                                 Traceback (most recent call last)",
      "\u001b[36mCell\u001b[39m\u001b[36m \u001b[39m\u001b[32mIn[17]\u001b[39m\u001b[32m, line 6\u001b[39m\n\u001b[32m      3\u001b[39m \u001b[38;5;28;01mdef\u001b[39;00m\u001b[38;5;250m \u001b[39m\u001b[34mansatz_fun\u001b[39m(num_qubits):\n\u001b[32m      4\u001b[39m     \u001b[38;5;28;01mreturn\u001b[39;00m cf.build_deep_ansatz(\u001b[32m10\u001b[39m, num_qubits)\n\u001b[32m----> \u001b[39m\u001b[32m6\u001b[39m data.append(\u001b[43mcf\u001b[49m\u001b[43m.\u001b[49m\u001b[43mvariance_vs_nQubits\u001b[49m\u001b[43m(\u001b[49m\u001b[43mansatz_fun\u001b[49m\u001b[43m,\u001b[49m\u001b[43m \u001b[49m\u001b[32;43m2\u001b[39;49m\u001b[43m,\u001b[49m\u001b[43m \u001b[49m\u001b[32;43m15\u001b[39;49m\u001b[43m,\u001b[49m\u001b[43m \u001b[49m\u001b[43mhamiltonian\u001b[49m\u001b[43m,\u001b[49m\u001b[43m \u001b[49m\u001b[32;43m0\u001b[39;49m\u001b[43m,\u001b[49m\u001b[43m \u001b[49m\u001b[32;43m100\u001b[39;49m\u001b[43m,\u001b[49m\u001b[43m \u001b[49m\u001b[38;5;28;43;01mTrue\u001b[39;49;00m\u001b[43m,\u001b[49m\u001b[43m \u001b[49m\u001b[38;5;28;43;01mTrue\u001b[39;49;00m\u001b[43m)\u001b[49m)\n",
      "\u001b[36mFile \u001b[39m\u001b[32mc:\\Users\\danie\\Documents\\GitHub\\QML-Avoiding-BP\\customFunctions.py:296\u001b[39m, in \u001b[36mvariance_vs_nQubits\u001b[39m\u001b[34m(ansantz_function, minQubits, maxQubits, base_observable, index, shots, print_info, plot_info)\u001b[39m\n\u001b[32m    293\u001b[39m current_observable=expand_observable(base_observable, i)\n\u001b[32m    294\u001b[39m ansatz_circuit, num_params = ansantz_function(i)\n\u001b[32m--> \u001b[39m\u001b[32m296\u001b[39m var_value, var_deriv = \u001b[43mget_variances_data\u001b[49m\u001b[43m(\u001b[49m\u001b[43mcurrent_observable\u001b[49m\u001b[43m,\u001b[49m\u001b[43m \u001b[49m\u001b[43mansatz_circuit\u001b[49m\u001b[43m,\u001b[49m\u001b[43m \u001b[49m\u001b[43mnum_params\u001b[49m\u001b[43m,\u001b[49m\u001b[43m \u001b[49m\u001b[43mindex\u001b[49m\u001b[43m,\u001b[49m\u001b[43m \u001b[49m\u001b[43mshots\u001b[49m\u001b[43m)\u001b[49m\n\u001b[32m    297\u001b[39m \u001b[38;5;66;03m# Información sobre la iteración actual\u001b[39;00m\n\u001b[32m    298\u001b[39m \u001b[38;5;28;01mif\u001b[39;00m print_info:\n",
      "\u001b[36mFile \u001b[39m\u001b[32mc:\\Users\\danie\\Documents\\GitHub\\QML-Avoiding-BP\\customFunctions.py:172\u001b[39m, in \u001b[36mget_variances_data\u001b[39m\u001b[34m(num_params, ansatz, observable, index, num_shots)\u001b[39m\n\u001b[32m    168\u001b[39m deriv_list = []\n\u001b[32m    170\u001b[39m \u001b[38;5;28;01mfor\u001b[39;00m _ \u001b[38;5;129;01min\u001b[39;00m \u001b[38;5;28mrange\u001b[39m(num_shots):\n\u001b[32m--> \u001b[39m\u001b[32m172\u001b[39m     rand_param_vector = \u001b[32m2\u001b[39m * np.pi *\u001b[43mnp\u001b[49m\u001b[43m.\u001b[49m\u001b[43mrandom\u001b[49m\u001b[43m.\u001b[49m\u001b[43mrandom\u001b[49m\u001b[43m(\u001b[49m\u001b[43mnum_params\u001b[49m\u001b[43m)\u001b[49m\n\u001b[32m    174\u001b[39m     value = evaluate_observable(rand_param_vector, ansatz, observable, estimator)\n\u001b[32m    175\u001b[39m     deriv = evaluate_deriv(rand_param_vector, ansatz, observable, index, estimator)\n",
      "\u001b[36mFile \u001b[39m\u001b[32mnumpy\\\\random\\\\mtrand.pyx:446\u001b[39m, in \u001b[36mnumpy.random.mtrand.RandomState.random\u001b[39m\u001b[34m()\u001b[39m\n",
      "\u001b[36mFile \u001b[39m\u001b[32mnumpy\\\\random\\\\mtrand.pyx:437\u001b[39m, in \u001b[36mnumpy.random.mtrand.RandomState.random_sample\u001b[39m\u001b[34m()\u001b[39m\n",
      "\u001b[36mFile \u001b[39m\u001b[32m_common.pyx:307\u001b[39m, in \u001b[36mnumpy.random._common.double_fill\u001b[39m\u001b[34m()\u001b[39m\n",
      "\u001b[31mTypeError\u001b[39m: 'SparsePauliOp' object cannot be interpreted as an integer"
     ]
    }
   ],
   "source": [
    "data = []\n",
    "\n",
    "def ansatz_fun(num_qubits):\n",
    "    return cf.build_deep_ansatz(10, num_qubits)\n",
    "\n",
    "data.append(cf.variance_vs_nQubits(ansatz_fun, 2, 15, hamiltonian, 0, 100, True, True))"
   ]
  }
 ],
 "metadata": {
  "kernelspec": {
   "display_name": "qiskit_tfm",
   "language": "python",
   "name": "python3"
  },
  "language_info": {
   "codemirror_mode": {
    "name": "ipython",
    "version": 3
   },
   "file_extension": ".py",
   "mimetype": "text/x-python",
   "name": "python",
   "nbconvert_exporter": "python",
   "pygments_lexer": "ipython3",
   "version": "3.11.11"
  }
 },
 "nbformat": 4,
 "nbformat_minor": 5
}
